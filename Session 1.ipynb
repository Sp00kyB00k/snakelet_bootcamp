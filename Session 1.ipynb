{
 "cells": [
  {
   "cell_type": "markdown",
   "id": "c6cb3bac",
   "metadata": {},
   "source": [
    "# Session 1\n",
    "\n",
    "- Data Types\n",
    "- Expressions\n",
    "- Displaying Data\n",
    "- Variables\n",
    "- Simple Functions\n",
    "- Conditions\n",
    "- Iterations\n",
    "- Functions\n",
    "- Recursion"
   ]
  },
  {
   "cell_type": "markdown",
   "id": "0c215d7f",
   "metadata": {},
   "source": [
    "## Data Types, Expressions & Displaying Data"
   ]
  },
  {
   "cell_type": "code",
   "execution_count": null,
   "id": "3dcc1412",
   "metadata": {},
   "outputs": [],
   "source": [
    "# Data Types\n",
    "# Strings\n",
    "\"Strings\"\n",
    "'Strings'\n",
    "\n",
    "# Integers\n",
    "20\n",
    "-420\n",
    "\n",
    "# Floats \n",
    "3.14159\n",
    "2.71828\n",
    "\n",
    "# Bool\n",
    "True\n",
    "False"
   ]
  },
  {
   "cell_type": "code",
   "execution_count": null,
   "id": "ed629d64",
   "metadata": {},
   "outputs": [],
   "source": [
    "# Operands\n",
    "5 + 5   # Addition\n",
    "5 - 5   # Subtraction\n",
    "5 * 5   # Multiplication\n",
    "5 / 5   # Division\n",
    "5 // 5  # Integer Division -> Round down to whole number\n",
    "5 ** 5  # Power            -> pow()\n",
    "5 % 5   # Modulo           -> Remainder of devision\n",
    "\n",
    "# PEMDAS (Parentheses, Exponents, Multiplication and Division, Addition and Subtraction)\n",
    "print(5 * 2 - 3 + 4 / 2)"
   ]
  },
  {
   "cell_type": "code",
   "execution_count": 1,
   "id": "92214e4c",
   "metadata": {},
   "outputs": [
    {
     "name": "stdout",
     "output_type": "stream",
     "text": [
      "Hello World!\n",
      "Hello World!\n",
      "AAAAA\n",
      "AB\n"
     ]
    }
   ],
   "source": [
    "# String Expressions\n",
    "print('Hello World!')\n",
    "print('Hello', 'World!')\n",
    "print(5 * 'A')\n",
    "print('A' + 'B')"
   ]
  },
  {
   "cell_type": "code",
   "execution_count": 4,
   "id": "47194e5d",
   "metadata": {},
   "outputs": [
    {
     "name": "stdout",
     "output_type": "stream",
     "text": [
      "69\n"
     ]
    },
    {
     "data": {
      "text/plain": [
       "''"
      ]
     },
     "execution_count": 4,
     "metadata": {},
     "output_type": "execute_result"
    }
   ],
   "source": [
    "# Type Casting AKA Converting types to another type\n",
    "print(int(69.720))\n",
    "float()\n",
    "str()"
   ]
  },
  {
   "cell_type": "markdown",
   "id": "c7badf08",
   "metadata": {},
   "source": [
    "### Exercise!\n",
    "Create tracer for a buffer overflow by making values A0A1A2 etc."
   ]
  },
  {
   "cell_type": "code",
   "execution_count": null,
   "id": "118d5c5d",
   "metadata": {},
   "outputs": [],
   "source": []
  },
  {
   "cell_type": "markdown",
   "id": "bc56be2d",
   "metadata": {},
   "source": [
    "## Variables"
   ]
  },
  {
   "cell_type": "code",
   "execution_count": 5,
   "id": "a137817c",
   "metadata": {},
   "outputs": [
    {
     "name": "stdout",
     "output_type": "stream",
     "text": [
      "5\n",
      "7\n"
     ]
    }
   ],
   "source": [
    "# Assigning a value to a variable\n",
    "# Left to right in most cases\n",
    "# In Python, one cannot initialize a variable without assingment\n",
    "x = 5\n",
    "print(x)\n",
    "\n",
    "# Shadowing\n",
    "x = 7 \n",
    "print(x)"
   ]
  },
  {
   "cell_type": "code",
   "execution_count": null,
   "id": "10c980a0",
   "metadata": {},
   "outputs": [],
   "source": [
    "\"\"\"\n",
    "**Reserved Keywords**\n",
    "\n",
    "False  None     True   and      as   assert\n",
    "break  case     class  continue def  del\n",
    "elif   else     except finally  for  from\n",
    "global if       import in       is   lambda\n",
    "match  nonlocal not    or       pass raise\n",
    "return try      while  with     yield\n",
    "\"\"\""
   ]
  },
  {
   "cell_type": "code",
   "execution_count": null,
   "id": "75010581",
   "metadata": {},
   "outputs": [],
   "source": [
    "# Constant in Python do NOT exist\n",
    "# However the convention is that capitalized, means constant\n",
    "CONSTANT = 5 # pls don't change"
   ]
  },
  {
   "cell_type": "code",
   "execution_count": 6,
   "id": "d95378f4",
   "metadata": {},
   "outputs": [
    {
     "name": "stdout",
     "output_type": "stream",
     "text": [
      "<class 'int'>\n",
      "<class 'str'>\n",
      "<class 'float'>\n"
     ]
    }
   ],
   "source": [
    "# Typing in Python\n",
    "# Duck Typing\n",
    "a = 3\n",
    "b = 'EHGN'\n",
    "c = 3.0\n",
    "\n",
    "# The type() function displays the type of the object\n",
    "print(type(a))\n",
    "print(type(b))\n",
    "print(type(c))"
   ]
  },
  {
   "cell_type": "code",
   "execution_count": 8,
   "id": "4dcc72ad",
   "metadata": {},
   "outputs": [
    {
     "name": "stdout",
     "output_type": "stream",
     "text": [
      "3\n",
      "5\n"
     ]
    }
   ],
   "source": [
    "a = 3\n",
    "A = 5\n",
    "print(a)\n",
    "print(A)"
   ]
  },
  {
   "cell_type": "code",
   "execution_count": 13,
   "id": "5930fd6d",
   "metadata": {},
   "outputs": [],
   "source": [
    "# Shorthand operators / Augmented operators\n",
    "a = 3 \n",
    "a = a + 6\n",
    "\n",
    "# Much shorter, such wow\n",
    "a =+ 6"
   ]
  },
  {
   "cell_type": "markdown",
   "id": "01f9cc1e",
   "metadata": {},
   "source": [
    "### Exercise\n",
    "Create three variables and assign them integer values.\n",
    "Calculate the average of the three."
   ]
  },
  {
   "cell_type": "code",
   "execution_count": 14,
   "id": "99ab16dd",
   "metadata": {},
   "outputs": [
    {
     "data": {
      "text/plain": [
       "228.66666666666666"
      ]
     },
     "execution_count": 14,
     "metadata": {},
     "output_type": "execute_result"
    }
   ],
   "source": [
    "a = 7\n",
    "b = 13\n",
    "c = 666\n",
    "(a + b + c)/3"
   ]
  },
  {
   "cell_type": "markdown",
   "id": "9199962f",
   "metadata": {},
   "source": [
    "## Simple Functions"
   ]
  },
  {
   "cell_type": "code",
   "execution_count": 15,
   "id": "bc54410d",
   "metadata": {},
   "outputs": [
    {
     "name": "stdout",
     "output_type": "stream",
     "text": [
      "\n",
      "a\n",
      "a\n",
      "25\n",
      "47.59134846789696\n"
     ]
    }
   ],
   "source": [
    "# A function has a name, some input (if any) and some output (if any)\n",
    "# The input can consists of multiple parameters, called arguments\n",
    "print()\n",
    "print('a')\n",
    "print('a',)\n",
    "\n",
    "# pow\n",
    "# Input: Base and Exponent\n",
    "# returns: int or float depending on input\n",
    "print(pow(5, 2))\n",
    "print(pow(5.0, 2.4))"
   ]
  },
  {
   "cell_type": "code",
   "execution_count": 16,
   "id": "42a082f2",
   "metadata": {},
   "outputs": [
    {
     "name": "stdout",
     "output_type": "stream",
     "text": [
      "25\n",
      "25\n",
      "12\n",
      "25\n",
      "5\n",
      "12\n"
     ]
    }
   ],
   "source": [
    "print(abs(-25))\n",
    "print(max(25, 12))\n",
    "print(min(25, 12))\n",
    "print(pow(5, 2))\n",
    "print(round(5.13))\n",
    "print(len('aaaaaaaaaaaa'))"
   ]
  },
  {
   "cell_type": "code",
   "execution_count": 17,
   "id": "1e189646",
   "metadata": {},
   "outputs": [
    {
     "name": "stdout",
     "output_type": "stream",
     "text": [
      "$ Hallo\n",
      "Hallo\n"
     ]
    }
   ],
   "source": [
    "# and a special one\n",
    "x = input('$ ')\n",
    "print(x)"
   ]
  },
  {
   "cell_type": "code",
   "execution_count": 19,
   "id": "8f1506b3",
   "metadata": {},
   "outputs": [
    {
     "data": {
      "text/plain": [
       "'0.6363636363636364'"
      ]
     },
     "execution_count": 19,
     "metadata": {},
     "output_type": "execute_result"
    }
   ],
   "source": [
    "# Format and F-strings\n",
    "\"{:.3f}\".format(7/11)\n",
    "f\"{7/11:.3f}\""
   ]
  },
  {
   "cell_type": "code",
   "execution_count": 20,
   "id": "7d7cbb52",
   "metadata": {},
   "outputs": [
    {
     "name": "stdout",
     "output_type": "stream",
     "text": [
      "total 40\n",
      "drwxrwxr-x 4 jd jd  4096 Jan 30 21:09 .\n",
      "drwxr-xr-x 9 jd jd  4096 Jan 27 21:34 ..\n",
      "drwxrwxr-x 8 jd jd  4096 Jan 30 20:26 .git\n",
      "-rw-rw-r-- 1 jd jd  3444 Jan 28 20:49 .gitignore\n",
      "drwxrwxr-x 2 jd jd  4096 Jan 27 21:34 .ipynb_checkpoints\n",
      "-rw-rw-r-- 1 jd jd 18835 Jan 30 21:09 Session 1.ipynb\n",
      "\n"
     ]
    }
   ],
   "source": [
    "# Modules & Libraries you can import\n",
    "import shlex\n",
    "from subprocess import run\n",
    "proc = run(shlex.split('ls -al'), capture_output=True, text=True)\n",
    "print(proc.stdout)"
   ]
  },
  {
   "cell_type": "markdown",
   "id": "19da5624",
   "metadata": {},
   "source": [
    "### Exercise\n",
    "Use the random module to generate a random password based on User Input.\n",
    "This module is not cryptography safe, but this is an exercise."
   ]
  },
  {
   "cell_type": "code",
   "execution_count": 21,
   "id": "8214946e",
   "metadata": {},
   "outputs": [
    {
     "name": "stdout",
     "output_type": "stream",
     "text": [
      "Give me the length of a random password: 4\n",
      "qPLX\n"
     ]
    }
   ],
   "source": [
    "from random import choice\n",
    "from string import ascii_letters\n",
    "password_length = int(input('Give me the length of a random password: '))\n",
    "passwd = \"\"\n",
    "\n",
    "for i in range(password_length):\n",
    "    passwd += choice(ascii_letters)\n",
    "print(passwd)"
   ]
  },
  {
   "cell_type": "markdown",
   "id": "e6c7971f",
   "metadata": {},
   "source": [
    "## Conditions"
   ]
  },
  {
   "cell_type": "code",
   "execution_count": 22,
   "id": "eff80d1f",
   "metadata": {},
   "outputs": [
    {
     "data": {
      "text/plain": [
       "False"
      ]
     },
     "execution_count": 22,
     "metadata": {},
     "output_type": "execute_result"
    }
   ],
   "source": [
    "# Boolean bullshit / Truthy Falsy\n",
    "# False, None, Every numerical value that is Zero\n",
    "# Every empty sequence [], {}, (), \"\"\n",
    "# Every empty mapping {:}\n",
    "bool([])\n",
    "bool(\"\")"
   ]
  },
  {
   "cell_type": "code",
   "execution_count": 23,
   "id": "6a3366ed",
   "metadata": {},
   "outputs": [
    {
     "name": "stdout",
     "output_type": "stream",
     "text": [
      "True\n",
      "True\n",
      "False\n",
      "False\n",
      "False\n",
      "True\n"
     ]
    }
   ],
   "source": [
    "# Comparisons\n",
    "print( 5 < 7 )\n",
    "print( 5 <= 7 )\n",
    "print( 5 == 7 )\n",
    "print( 5 >= 7 )\n",
    "print( 5 > 7 )\n",
    "print( 5 != 7 )"
   ]
  },
  {
   "cell_type": "code",
   "execution_count": 24,
   "id": "05497457",
   "metadata": {},
   "outputs": [
    {
     "name": "stdout",
     "output_type": "stream",
     "text": [
      "True\n"
     ]
    }
   ],
   "source": [
    "# Membership test operator\n",
    "print('127.0.0.1' in 'inet 127.0.0.1/8 scope host lo')"
   ]
  },
  {
   "cell_type": "code",
   "execution_count": 25,
   "id": "41facebb",
   "metadata": {},
   "outputs": [
    {
     "name": "stdout",
     "output_type": "stream",
     "text": [
      "False\n",
      "True\n",
      "False\n",
      "True\n",
      "True\n",
      "False\n",
      "False\n",
      "True\n"
     ]
    }
   ],
   "source": [
    "# Logical Operators\n",
    "# and, or, not\n",
    "t = True\n",
    "f = False\n",
    "print(t and f)\n",
    "print(t and t)\n",
    "print(f and f)\n",
    " \n",
    "print(t or f)\n",
    "print(t or t)\n",
    "print(f or f)\n",
    "\n",
    "print(not t)\n",
    "print(not f)"
   ]
  },
  {
   "cell_type": "code",
   "execution_count": 26,
   "id": "42f2d642",
   "metadata": {},
   "outputs": [
    {
     "name": "stdout",
     "output_type": "stream",
     "text": [
      "password:qw3rty!\n"
     ]
    }
   ],
   "source": [
    "# Conditional Statements\n",
    "some_capture = 'password:qw3rty!'\n",
    "if 'pass' in some_capture:\n",
    "    print(some_capture)\n",
    "    \n",
    "# As you can see, python code block works based on indentation ( 4 spaces )\n",
    "# Which differs from the {} style in C, C++, Rust and Javascript"
   ]
  },
  {
   "cell_type": "code",
   "execution_count": 27,
   "id": "d644849f",
   "metadata": {},
   "outputs": [
    {
     "name": "stdout",
     "output_type": "stream",
     "text": [
      "$ banana\n",
      "a\n"
     ]
    }
   ],
   "source": [
    "# We can use as many elif's as we'd like\n",
    "x = input(\"$ \")\n",
    "if 'a' in x:\n",
    "    print('a')\n",
    "elif 'b' in x:\n",
    "    print('b')\n",
    "else:\n",
    "    print('cmon, do something')"
   ]
  },
  {
   "cell_type": "code",
   "execution_count": 28,
   "id": "066a03eb",
   "metadata": {},
   "outputs": [
    {
     "name": "stdout",
     "output_type": "stream",
     "text": [
      "This may be a banana\n"
     ]
    }
   ],
   "source": [
    "x = 'banana'\n",
    "if 'a' in x:\n",
    "    if 'b' in x:\n",
    "        if 'n' in x:\n",
    "            print('This may be a banana')"
   ]
  },
  {
   "cell_type": "markdown",
   "id": "4db98a37",
   "metadata": {},
   "source": [
    "### Exercise!\n",
    "Write a program that check if there is a password in a textline.\n",
    "Handy for when you will be reading configuration files later on."
   ]
  },
  {
   "cell_type": "markdown",
   "id": "c9baf1be",
   "metadata": {},
   "source": [
    "## Iterations"
   ]
  },
  {
   "cell_type": "code",
   "execution_count": 29,
   "id": "fceef928",
   "metadata": {},
   "outputs": [
    {
     "name": "stdout",
     "output_type": "stream",
     "text": [
      "0 CVE ah ah ah\n",
      "1 CVE ah ah ah\n",
      "2 CVE ah ah ah\n",
      "3 CVE ah ah ah\n",
      "4 CVE ah ah ah\n",
      "5 CVE ah ah ah\n",
      "6 CVE ah ah ah\n",
      "7 CVE ah ah ah\n",
      "8 CVE ah ah ah\n",
      "9 CVE ah ah ah\n"
     ]
    }
   ],
   "source": [
    "x  = 0\n",
    "while x != 10:\n",
    "    print(f\"{x} CVE ah ah ah\")\n",
    "    x += 1\n",
    "    \n",
    "# Explain why this is a really bad way of doing things"
   ]
  },
  {
   "cell_type": "code",
   "execution_count": 33,
   "id": "566df05f",
   "metadata": {},
   "outputs": [
    {
     "name": "stdout",
     "output_type": "stream",
     "text": [
      "S\n",
      "n\n",
      "a\n",
      "k\n",
      "e\n",
      "l\n",
      "e\n",
      "t\n",
      " \n",
      "B\n",
      "o\n",
      "o\n",
      "t\n",
      "c\n",
      "a\n",
      "m\n",
      "p\n"
     ]
    }
   ],
   "source": [
    "for letter in \"Snakelet Bootcamp\":\n",
    "    print(letter)"
   ]
  },
  {
   "cell_type": "code",
   "execution_count": 34,
   "id": "0d1ed108",
   "metadata": {},
   "outputs": [
    {
     "name": "stdout",
     "output_type": "stream",
     "text": [
      "1\n",
      "2\n",
      "3\n",
      "4\n",
      "5\n"
     ]
    }
   ],
   "source": [
    "for item in [1, 2, 3, 4, 5]:\n",
    "    print(item)"
   ]
  },
  {
   "cell_type": "code",
   "execution_count": 35,
   "id": "1964d3b8",
   "metadata": {},
   "outputs": [
    {
     "name": "stdout",
     "output_type": "stream",
     "text": [
      "0\n",
      "1\n",
      "2\n",
      "3\n",
      "4\n",
      "Done!\n"
     ]
    }
   ],
   "source": [
    "# We can do the same here\n",
    "# And for both While and For, we can add an Else clause\n",
    "for x in range(5):\n",
    "    print(x)\n",
    "else:\n",
    "    print('Done!')\n",
    "    "
   ]
  },
  {
   "cell_type": "code",
   "execution_count": 36,
   "id": "697c7e2e",
   "metadata": {},
   "outputs": [
    {
     "name": "stdout",
     "output_type": "stream",
     "text": [
      "0\n",
      "1\n",
      "2\n",
      "3\n",
      "4\n",
      "5\n",
      "6\n",
      "7\n"
     ]
    }
   ],
   "source": [
    "# When breaking, the else clause does get bypassed too!\n",
    "for i in range(100000000):\n",
    "    print(i)\n",
    "    if i >= 7:\n",
    "        break\n",
    "    if i >= 5:\n",
    "        continue\n",
    "else:\n",
    "    print('Done')"
   ]
  },
  {
   "cell_type": "code",
   "execution_count": 37,
   "id": "5f5a2677",
   "metadata": {},
   "outputs": [
    {
     "name": "stdout",
     "output_type": "stream",
     "text": [
      "i: 0\n",
      "j 0\n",
      "i: 0\n",
      "j 1\n",
      "i: 0\n",
      "j 2\n",
      "i: 0\n",
      "j 3\n",
      "i: 0\n",
      "j 4\n",
      "i: 0\n",
      "j 5\n",
      "i: 0\n",
      "j 6\n",
      "i: 0\n",
      "j 7\n",
      "i: 0\n",
      "j 8\n",
      "i: 0\n",
      "j 9\n",
      "i: 1\n",
      "j 0\n",
      "i: 1\n",
      "j 1\n",
      "i: 1\n",
      "j 2\n",
      "i: 1\n",
      "j 3\n",
      "i: 1\n",
      "j 4\n",
      "i: 1\n",
      "j 5\n",
      "i: 1\n",
      "j 6\n",
      "i: 1\n",
      "j 7\n",
      "i: 1\n",
      "j 8\n",
      "i: 1\n",
      "j 9\n",
      "i: 2\n",
      "j 0\n",
      "i: 2\n",
      "j 1\n",
      "i: 2\n",
      "j 2\n",
      "i: 2\n",
      "j 3\n",
      "i: 2\n",
      "j 4\n",
      "i: 2\n",
      "j 5\n",
      "i: 2\n",
      "j 6\n",
      "i: 2\n",
      "j 7\n",
      "i: 2\n",
      "j 8\n",
      "i: 2\n",
      "j 9\n",
      "i: 3\n",
      "j 0\n",
      "i: 3\n",
      "j 1\n",
      "i: 3\n",
      "j 2\n",
      "i: 3\n",
      "j 3\n",
      "i: 3\n",
      "j 4\n",
      "i: 3\n",
      "j 5\n",
      "i: 3\n",
      "j 6\n",
      "i: 3\n",
      "j 7\n",
      "i: 3\n",
      "j 8\n",
      "i: 3\n",
      "j 9\n",
      "i: 4\n",
      "j 0\n",
      "i: 4\n",
      "j 1\n",
      "i: 4\n",
      "j 2\n",
      "i: 4\n",
      "j 3\n",
      "i: 4\n",
      "j 4\n",
      "i: 4\n",
      "j 5\n",
      "i: 4\n",
      "j 6\n",
      "i: 4\n",
      "j 7\n",
      "i: 4\n",
      "j 8\n",
      "i: 4\n",
      "j 9\n",
      "i: 5\n",
      "j 0\n",
      "i: 5\n",
      "j 1\n",
      "i: 5\n",
      "j 2\n",
      "i: 5\n",
      "j 3\n",
      "i: 5\n",
      "j 4\n",
      "i: 5\n",
      "j 5\n",
      "i: 5\n",
      "j 6\n",
      "i: 5\n",
      "j 7\n",
      "i: 5\n",
      "j 8\n",
      "i: 5\n",
      "j 9\n",
      "i: 6\n",
      "j 0\n",
      "i: 6\n",
      "j 1\n",
      "i: 6\n",
      "j 2\n",
      "i: 6\n",
      "j 3\n",
      "i: 6\n",
      "j 4\n",
      "i: 6\n",
      "j 5\n",
      "i: 6\n",
      "j 6\n",
      "i: 6\n",
      "j 7\n",
      "i: 6\n",
      "j 8\n",
      "i: 6\n",
      "j 9\n",
      "i: 7\n",
      "j 0\n",
      "i: 7\n",
      "j 1\n",
      "i: 7\n",
      "j 2\n",
      "i: 7\n",
      "j 3\n",
      "i: 7\n",
      "j 4\n",
      "i: 7\n",
      "j 5\n",
      "i: 7\n",
      "j 6\n",
      "i: 7\n",
      "j 7\n",
      "i: 7\n",
      "j 8\n",
      "i: 7\n",
      "j 9\n",
      "i: 8\n",
      "j 0\n",
      "i: 8\n",
      "j 1\n",
      "i: 8\n",
      "j 2\n",
      "i: 8\n",
      "j 3\n",
      "i: 8\n",
      "j 4\n",
      "i: 8\n",
      "j 5\n",
      "i: 8\n",
      "j 6\n",
      "i: 8\n",
      "j 7\n",
      "i: 8\n",
      "j 8\n",
      "i: 8\n",
      "j 9\n",
      "i: 9\n",
      "j 0\n",
      "i: 9\n",
      "j 1\n",
      "i: 9\n",
      "j 2\n",
      "i: 9\n",
      "j 3\n",
      "i: 9\n",
      "j 4\n",
      "i: 9\n",
      "j 5\n",
      "i: 9\n",
      "j 6\n",
      "i: 9\n",
      "j 7\n",
      "i: 9\n",
      "j 8\n",
      "i: 9\n",
      "j 9\n",
      "450\n"
     ]
    }
   ],
   "source": [
    "summation = 0\n",
    "for i in range(10):\n",
    "    for j in range(10):\n",
    "        summation += j\n",
    "        print('i:', i)\n",
    "        print('j', j)\n",
    "print(summation)"
   ]
  },
  {
   "cell_type": "markdown",
   "id": "0025cbb9",
   "metadata": {},
   "source": [
    "### Exercise!\n",
    "Read a file. Yes, it works iteratively."
   ]
  },
  {
   "cell_type": "code",
   "execution_count": 38,
   "id": "033e92c6",
   "metadata": {},
   "outputs": [
    {
     "name": "stdout",
     "output_type": "stream",
     "text": [
      "123456\n",
      "\n",
      "123456789\n",
      "\n",
      "picture1\n",
      "\n",
      "password\n",
      "\n",
      "12345678\n",
      "\n",
      "111111\n",
      "\n",
      "123123\n",
      "\n",
      "12345\n",
      "\n",
      "1234567890\n",
      "\n",
      "senha\n",
      "\n",
      "1234567\n",
      "\n",
      "qwerty\n",
      "\n",
      "abc123\n",
      "\n",
      "Million2\n",
      "\n",
      "000000\n",
      "\n",
      "1234\n",
      "\n",
      "iloveyou\n",
      "\n",
      "aaron431\n",
      "\n",
      "password1\n",
      "\n",
      "qqww1122\n",
      "\n",
      "123\n",
      "\n",
      "omgpop\n",
      "\n",
      "123321\n",
      "\n",
      "654321\n",
      "\n",
      "qwertyuiop\n",
      "\n",
      "qwer123456\n",
      "\n",
      "123456a\n",
      "\n",
      "a123456\n",
      "\n",
      "666666\n",
      "\n",
      "asdfghjkl\n",
      "\n",
      "ashley\n",
      "\n",
      "987654321\n",
      "\n",
      "unknown\n",
      "\n",
      "zxcvbnm\n",
      "\n",
      "112233\n",
      "\n",
      "chatbooks\n",
      "\n",
      "20100728\n",
      "\n",
      "123123123\n",
      "\n",
      "princess\n",
      "\n",
      "jacket025\n",
      "\n",
      "evite\n",
      "\n",
      "123abc\n",
      "\n",
      "123qwe\n",
      "\n",
      "sunshine\n",
      "\n",
      "121212\n",
      "\n",
      "dragon\n",
      "\n",
      "1q2w3e4r\n",
      "\n",
      "5201314\n",
      "\n",
      "159753\n",
      "\n",
      "pokemon\n",
      "\n",
      "qwerty123\n",
      "\n",
      "Bangbang123\n",
      "\n",
      "jobandtalent\n",
      "\n",
      "monkey\n",
      "\n",
      "1qaz2wsx\n",
      "\n",
      "abcd1234\n",
      "\n",
      "default\n",
      "\n",
      "aaaaaa\n",
      "\n",
      "soccer\n",
      "\n",
      "123654\n",
      "\n",
      "ohmnamah23\n",
      "\n",
      "12345678910\n",
      "\n",
      "zing\n",
      "\n",
      "shadow\n",
      "\n",
      "102030\n",
      "\n",
      "11111111\n",
      "\n",
      "asdfgh\n",
      "\n",
      "147258369\n",
      "\n",
      "qazwsx\n",
      "\n",
      "qwe123\n",
      "\n",
      "michael\n",
      "\n",
      "football\n",
      "\n",
      "baseball\n",
      "\n",
      "1q2w3e4r5t\n",
      "\n",
      "party\n",
      "\n",
      "daniel\n",
      "\n",
      "asdasd\n",
      "\n",
      "222222\n",
      "\n",
      "myspace1\n",
      "\n",
      "asd123\n",
      "\n",
      "555555\n",
      "\n",
      "a123456789\n",
      "\n",
      "888888\n",
      "\n",
      "7777777\n",
      "\n",
      "fuckyou\n",
      "\n",
      "1234qwer\n",
      "\n",
      "superman\n",
      "\n",
      "147258\n",
      "\n",
      "999999\n",
      "\n",
      "159357\n",
      "\n",
      "love123\n",
      "\n",
      "tigger\n",
      "\n",
      "purple\n",
      "\n",
      "samantha\n",
      "\n",
      "charlie\n",
      "\n",
      "babygirl\n",
      "\n",
      "88888888\n",
      "\n",
      "jordan23\n",
      "\n",
      "789456123\n",
      "\n",
      "jordan\n",
      "\n",
      "anhyeuem\n",
      "\n",
      "killer\n",
      "\n",
      "basketball\n",
      "\n",
      "michelle\n",
      "\n",
      "1q2w3e\n",
      "\n",
      "lol123\n",
      "\n",
      "qwerty1\n",
      "\n",
      "789456\n",
      "\n",
      "6655321\n",
      "\n",
      "nicole\n",
      "\n",
      "naruto\n",
      "\n",
      "master\n",
      "\n",
      "chocolate\n",
      "\n",
      "maggieown\n",
      "\n",
      "computer\n",
      "\n",
      "hannah\n",
      "\n",
      "jessica\n",
      "\n",
      "123456789a\n",
      "\n",
      "password123\n",
      "\n",
      "hunter\n",
      "\n",
      "686584\n",
      "\n",
      "iloveyou1\n",
      "\n",
      "justin\n",
      "\n",
      "cookie\n",
      "\n",
      "hello\n",
      "\n",
      "blink182\n",
      "\n",
      "andrew\n",
      "\n",
      "25251325\n",
      "\n",
      "love\n",
      "\n",
      "987654\n",
      "\n",
      "bailey\n",
      "\n",
      "princess1\n",
      "\n",
      "101010\n",
      "\n",
      "12341234\n",
      "\n",
      "a801016\n",
      "\n",
      "1111\n",
      "\n",
      "1111111\n",
      "\n",
      "anthony\n",
      "\n",
      "yugioh\n",
      "\n",
      "fuckyou1\n",
      "\n",
      "amanda\n",
      "\n",
      "asdf1234\n",
      "\n",
      "trustno1\n",
      "\n",
      "butterfly\n",
      "\n",
      "x4ivygA51F\n",
      "\n",
      "iloveu\n",
      "\n",
      "batman\n",
      "\n",
      "starwars\n",
      "\n",
      "summer\n",
      "\n",
      "michael1\n",
      "\n",
      "00000000\n",
      "\n",
      "lovely\n",
      "\n",
      "jakcgt333\n",
      "\n",
      "buster\n",
      "\n",
      "jennifer\n",
      "\n",
      "babygirl1\n",
      "\n",
      "family\n",
      "\n",
      "456789\n",
      "\n",
      "azerty\n",
      "\n",
      "andrea\n",
      "\n",
      "q1w2e3r4\n",
      "\n",
      "qwer1234\n",
      "\n",
      "hello123\n",
      "\n",
      "10203\n",
      "\n",
      "matthew\n",
      "\n",
      "pepper\n",
      "\n",
      "12345a\n",
      "\n",
      "letmein\n",
      "\n",
      "joshua\n",
      "\n",
      "131313\n",
      "\n",
      "123456b\n",
      "\n",
      "madison\n",
      "\n",
      "Sample123\n",
      "\n",
      "777777\n",
      "\n",
      "football1\n",
      "\n",
      "jesus1\n",
      "\n",
      "taylor\n",
      "\n",
      "b123456\n",
      "\n",
      "whatever\n",
      "\n",
      "welcome\n",
      "\n",
      "ginger\n",
      "\n",
      "flower\n",
      "\n",
      "333333\n",
      "\n",
      "1111111111\n",
      "\n",
      "robert\n",
      "\n",
      "samsung\n",
      "\n",
      "a12345\n",
      "\n",
      "loveme\n",
      "\n",
      "gabriel\n",
      "\n",
      "alexander\n",
      "\n",
      "cheese\n",
      "\n",
      "passw0rd\n",
      "\n",
      "142536\n",
      "\n",
      "peanut\n",
      "\n",
      "11223344\n",
      "\n",
      "thomas\n",
      "\n",
      "angel1\n",
      "\n"
     ]
    }
   ],
   "source": [
    "with open('/usr/share/seclists/Passwords/2020-200_most_used_passwords.txt', 'r') as f:\n",
    "    for line in f.readlines():\n",
    "        print(line)"
   ]
  },
  {
   "cell_type": "markdown",
   "id": "fb598120",
   "metadata": {},
   "source": [
    "## Functions"
   ]
  },
  {
   "cell_type": "code",
   "execution_count": null,
   "id": "1d731749",
   "metadata": {},
   "outputs": [],
   "source": [
    "def function(param1: int, param2_with_default_value='Default Value': str) -> list:\n",
    "    param1 += 1\n",
    "    param2_with_default_value = 'Altered Value'\n",
    "    return [param1, param2_with_default_value]"
   ]
  },
  {
   "cell_type": "code",
   "execution_count": 39,
   "id": "869010a6",
   "metadata": {},
   "outputs": [
    {
     "name": "stdout",
     "output_type": "stream",
     "text": [
      "[*] Hello World\n"
     ]
    }
   ],
   "source": [
    "# Handy for reuse \n",
    "def string_prepper(string: str):\n",
    "    return '[*] ' + string\n",
    "\n",
    "print(string_prepper('Hello World'))"
   ]
  },
  {
   "cell_type": "code",
   "execution_count": 40,
   "id": "cf9abacd",
   "metadata": {},
   "outputs": [
    {
     "name": "stdout",
     "output_type": "stream",
     "text": [
      "The target has been set at 10.0.0.69\n",
      "what is the target? -> 10.0.0.5\n"
     ]
    }
   ],
   "source": [
    "# Scope of variables\n",
    "target = '10.0.0.5'\n",
    "\n",
    "def set_target():\n",
    "    target = '10.0.0.69'\n",
    "    print('The target has been set at', target)\n",
    "\n",
    "set_target()\n",
    "print('what is the target? ->', target)"
   ]
  },
  {
   "cell_type": "code",
   "execution_count": 42,
   "id": "66e39460",
   "metadata": {},
   "outputs": [
    {
     "name": "stdout",
     "output_type": "stream",
     "text": [
      "what is the target? -> 10.0.0.69\n"
     ]
    }
   ],
   "source": [
    "target = '10.0.0.5'\n",
    "\n",
    "def set_target():\n",
    "    return '10.0.0.69'\n",
    "\n",
    "target  = set_target()\n",
    "print('what is the target? ->', target)"
   ]
  },
  {
   "cell_type": "code",
   "execution_count": 43,
   "id": "1db99c95",
   "metadata": {},
   "outputs": [
    {
     "data": {
      "text/plain": [
       "True"
      ]
     },
     "execution_count": 43,
     "metadata": {},
     "output_type": "execute_result"
    }
   ],
   "source": [
    "# For checking the type of a parameter\n",
    "isinstance('Hello', str)"
   ]
  },
  {
   "cell_type": "code",
   "execution_count": null,
   "id": "00089b7d",
   "metadata": {},
   "outputs": [],
   "source": [
    "# Condition based returns\n",
    "def hostcheck(host: str):\n",
    "    if host == '127.0.0.1':\n",
    "        return 'Local Loopback'\n",
    "    return f'Host Address: {host}'"
   ]
  },
  {
   "cell_type": "code",
   "execution_count": 7,
   "id": "be03e0fd",
   "metadata": {},
   "outputs": [
    {
     "name": "stdout",
     "output_type": "stream",
     "text": [
      "144\n",
      "144\n"
     ]
    }
   ],
   "source": [
    "# Anonymous functions\n",
    "f = lambda x: x*x\n",
    "print(f(12))\n",
    "def f(x):\n",
    "    return x*x\n",
    "print(f(12))"
   ]
  },
  {
   "cell_type": "markdown",
   "id": "fa619eed",
   "metadata": {},
   "source": [
    "### Exercise!\n",
    "Write a program that generates the Hosts and Networks for a Class C network\n",
    "Something like a 192.168.1.x/24 Network\n",
    "https://www.freecodecamp.org/news/subnet-cheat-sheet-24-subnet-mask-30-26-27-29-and-other-ip-address-cidr-network-references/\n",
    "\n",
    "For more points, make it so you can do it for Class A, Class B and Class C Networks"
   ]
  },
  {
   "cell_type": "markdown",
   "id": "a72c64dd",
   "metadata": {},
   "source": [
    "## Recursion"
   ]
  },
  {
   "cell_type": "code",
   "execution_count": 9,
   "id": "b51f2160",
   "metadata": {},
   "outputs": [
    {
     "name": "stdout",
     "output_type": "stream",
     "text": [
      "120\n"
     ]
    }
   ],
   "source": [
    "# Factorial 5! = 5 * 4 * 3 * 2 * 1\n",
    "def factorial(n):\n",
    "    if n <= 1 :\n",
    "        return 1\n",
    "    return n * factorial(n - 1)\n",
    "print(factorial(5))"
   ]
  },
  {
   "cell_type": "code",
   "execution_count": 44,
   "id": "e4cb1c80",
   "metadata": {},
   "outputs": [
    {
     "name": "stdout",
     "output_type": "stream",
     "text": [
      "The Zen of Python, by Tim Peters\n",
      "\n",
      "Beautiful is better than ugly.\n",
      "Explicit is better than implicit.\n",
      "Simple is better than complex.\n",
      "Complex is better than complicated.\n",
      "Flat is better than nested.\n",
      "Sparse is better than dense.\n",
      "Readability counts.\n",
      "Special cases aren't special enough to break the rules.\n",
      "Although practicality beats purity.\n",
      "Errors should never pass silently.\n",
      "Unless explicitly silenced.\n",
      "In the face of ambiguity, refuse the temptation to guess.\n",
      "There should be one-- and preferably only one --obvious way to do it.\n",
      "Although that way may not be obvious at first unless you're Dutch.\n",
      "Now is better than never.\n",
      "Although never is often better than *right* now.\n",
      "If the implementation is hard to explain, it's a bad idea.\n",
      "If the implementation is easy to explain, it may be a good idea.\n",
      "Namespaces are one honking great idea -- let's do more of those!\n"
     ]
    }
   ],
   "source": [
    "# Styling in python by Tim Peters\n",
    "import this"
   ]
  },
  {
   "cell_type": "code",
   "execution_count": 45,
   "id": "b39de718",
   "metadata": {
    "collapsed": true
   },
   "outputs": [
    {
     "name": "stderr",
     "output_type": "stream",
     "text": [
      "Gtk-Message: 21:53:47.924: Failed to load module \"colorreload-gtk-module\"\n",
      "Gtk-Message: 21:53:47.924: Failed to load module \"window-decorations-gtk-module\"\n"
     ]
    }
   ],
   "source": [
    "import antigravity"
   ]
  },
  {
   "cell_type": "code",
   "execution_count": null,
   "id": "6e16e6cc",
   "metadata": {},
   "outputs": [],
   "source": [
    "\"\"\"\n",
    "Additional Tips\n",
    "Python Docs: https://docs.python.org/3/\n",
    "Or in your terminal you can use `pydoc`\n",
    "\n",
    "Use a linter inside your texteditor such as black, flake8\n",
    "autopep8 makes your code pep8 compliant, so you have good codestyle\n",
    "GIT for versioning\n",
    "\"\"\""
   ]
  }
 ],
 "metadata": {
  "kernelspec": {
   "display_name": "Python 3 (ipykernel)",
   "language": "python",
   "name": "python3"
  },
  "language_info": {
   "codemirror_mode": {
    "name": "ipython",
    "version": 3
   },
   "file_extension": ".py",
   "mimetype": "text/x-python",
   "name": "python",
   "nbconvert_exporter": "python",
   "pygments_lexer": "ipython3",
   "version": "3.12.8"
  }
 },
 "nbformat": 4,
 "nbformat_minor": 5
}
