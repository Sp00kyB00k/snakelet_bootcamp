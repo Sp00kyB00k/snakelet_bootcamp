{
 "cells": [
  {
   "cell_type": "markdown",
   "id": "c6cb3bac",
   "metadata": {},
   "source": [
    "# Session 1\n",
    "\n",
    "- Data Types\n",
    "- Expressions\n",
    "- Displaying Data\n",
    "- Variables\n",
    "- Simple Functions\n",
    "- Conditions\n",
    "- Iterations\n",
    "- Functions\n",
    "- Recursion"
   ]
  },
  {
   "cell_type": "markdown",
   "id": "0c215d7f",
   "metadata": {},
   "source": [
    "## Data Types, Expressions & Displaying Data"
   ]
  },
  {
   "cell_type": "code",
   "execution_count": null,
   "id": "3dcc1412",
   "metadata": {},
   "outputs": [],
   "source": [
    "# Data Types\n",
    "# Strings\n",
    "\"Strings\"\n",
    "\n",
    "# Integers\n",
    "20\n",
    "-420\n",
    "\n",
    "# Floats \n",
    "3.14159\n",
    "2.71828\n",
    "\n",
    "# Bool\n",
    "True\n",
    "False"
   ]
  },
  {
   "cell_type": "code",
   "execution_count": null,
   "id": "ed629d64",
   "metadata": {},
   "outputs": [],
   "source": [
    "# Operands\n",
    "5 + 5   # Addition\n",
    "5 - 5   # Subtraction\n",
    "5 * 5   # Multiplication\n",
    "5 / 5   # Division\n",
    "5 // 5  # Integer Division -> Round down to whole number\n",
    "5 ** 5  # Power            -> pow()\n",
    "5 % 5   # Modulo           -> Remainder of devision\n",
    "\n",
    "# PEMDAS (Parentheses, Exponents, Multiplication and Division, Addition and Subtraction)\n",
    "print(5 * 2 - 3 + 4 / 2)"
   ]
  },
  {
   "cell_type": "code",
   "execution_count": null,
   "id": "92214e4c",
   "metadata": {},
   "outputs": [],
   "source": [
    "# String Expressions\n",
    "print('Hello World!')\n",
    "print('Hello', 'World!')\n",
    "print(5 * 'A')\n",
    "print('A' + 'B')"
   ]
  },
  {
   "cell_type": "code",
   "execution_count": null,
   "id": "47194e5d",
   "metadata": {},
   "outputs": [],
   "source": [
    "# Type Casting AKA Converting types to another type\n",
    "int()\n",
    "float()\n",
    "str()"
   ]
  },
  {
   "cell_type": "markdown",
   "id": "bc56be2d",
   "metadata": {},
   "source": [
    "## Variables"
   ]
  },
  {
   "cell_type": "code",
   "execution_count": null,
   "id": "a137817c",
   "metadata": {},
   "outputs": [],
   "source": [
    "# Assigning a value to a variable\n",
    "# Left to right in most cases\n",
    "# In Python, one cannot initialize a variable without assingment\n",
    "x = 5\n",
    "print(x)\n",
    "\n",
    "# Shadowing\n",
    "x = 7 \n",
    "print(x)"
   ]
  },
  {
   "cell_type": "code",
   "execution_count": null,
   "id": "10c980a0",
   "metadata": {},
   "outputs": [],
   "source": [
    "\"\"\"\n",
    "**Reserved Keywords**\n",
    "\n",
    "False  None     True   and      as   assert\n",
    "break  case     class  continue def  del\n",
    "elif   else     except finally  for  from\n",
    "global if       import in       is   lambda\n",
    "match  nonlocal not    or       pass raise\n",
    "return try      while  with     yield\n",
    "\"\"\""
   ]
  },
  {
   "cell_type": "code",
   "execution_count": null,
   "id": "75010581",
   "metadata": {},
   "outputs": [],
   "source": [
    "# Constant in Python do NOT exist\n",
    "# However the convention is that capitalized, means constant\n",
    "CONSTANT = 5 # pls don't change"
   ]
  },
  {
   "cell_type": "code",
   "execution_count": null,
   "id": "d95378f4",
   "metadata": {},
   "outputs": [],
   "source": [
    "# Typing in Python\n",
    "# Duck Typing\n",
    "a = 3\n",
    "b = 'EHGN'\n",
    "c = 3.0\n",
    "\n",
    "# The type() function displays the type of the object\n",
    "print(type(a))\n",
    "print(type(b))\n",
    "print(type(c))"
   ]
  },
  {
   "cell_type": "code",
   "execution_count": null,
   "id": "5930fd6d",
   "metadata": {},
   "outputs": [],
   "source": [
    "# Shorthand operators / Augmented operators\n",
    "a = 3 \n",
    "a = a + 6\n",
    "\n",
    "# Much shorter, such wow\n",
    "a += 6"
   ]
  },
  {
   "cell_type": "markdown",
   "id": "9199962f",
   "metadata": {},
   "source": [
    "## Simple Functions"
   ]
  },
  {
   "cell_type": "code",
   "execution_count": null,
   "id": "bc54410d",
   "metadata": {},
   "outputs": [],
   "source": [
    "# A function has a name, some input (if any) and some output (if any)\n",
    "# The input can consists of multiple parameters, called arguments\n",
    "print()\n",
    "print('a')\n",
    "print('a',)\n",
    "\n",
    "# pow\n",
    "# Input: Base and Exponent\n",
    "# returns: int or float depending on input\n",
    "print(pow(5, 2))\n",
    "print(pow(5.0, 2.4))"
   ]
  },
  {
   "cell_type": "code",
   "execution_count": null,
   "id": "42a082f2",
   "metadata": {},
   "outputs": [],
   "source": [
    "print(abs(-25))\n",
    "print(max(25, 12))\n",
    "print(min(25, 12))\n",
    "print(pow(5, 2))\n",
    "print(round(5.13))\n",
    "print(len('aaaaaaaaaaaa'))"
   ]
  },
  {
   "cell_type": "code",
   "execution_count": null,
   "id": "1e189646",
   "metadata": {},
   "outputs": [],
   "source": [
    "# and a special one\n",
    "x = input('$ ')\n",
    "print(x)"
   ]
  },
  {
   "cell_type": "code",
   "execution_count": null,
   "id": "8f1506b3",
   "metadata": {},
   "outputs": [],
   "source": [
    "# Format and F-strings\n",
    "\"{:.3f}\".format(7/11)\n",
    "f\"{7/11:.3f}\""
   ]
  },
  {
   "cell_type": "code",
   "execution_count": null,
   "id": "7d7cbb52",
   "metadata": {},
   "outputs": [],
   "source": [
    "# Modules & Libraries you can import\n",
    "import shlex\n",
    "from subprocess import run\n",
    "proc = run(shlex.split('ls -al'), capture_output=True, text=True)\n",
    "print(proc.stdout)"
   ]
  },
  {
   "cell_type": "markdown",
   "id": "e6c7971f",
   "metadata": {},
   "source": [
    "## Conditions"
   ]
  },
  {
   "cell_type": "code",
   "execution_count": null,
   "id": "eff80d1f",
   "metadata": {},
   "outputs": [],
   "source": [
    "# Boolean bullshit / Truthy Falsy\n",
    "# False, None, Every numerical value that is Zero\n",
    "# Every empty sequence [], {}, (), \"\"\n",
    "# Every empty mapping {:}\n",
    "bool([])\n",
    "bool(\"\")"
   ]
  },
  {
   "cell_type": "code",
   "execution_count": null,
   "id": "6a3366ed",
   "metadata": {},
   "outputs": [],
   "source": [
    "# Comparisons\n",
    "print( 5 < 7 )\n",
    "print( 5 <= 7 )\n",
    "print( 5 == 7 )\n",
    "print( 5 >= 7 )\n",
    "print( 5 > 7 )\n",
    "print( 5 != 7 )"
   ]
  },
  {
   "cell_type": "code",
   "execution_count": null,
   "id": "05497457",
   "metadata": {},
   "outputs": [],
   "source": [
    "# Membership test operator\n",
    "print('127.0.0.1' in 'inet 127.0.0.1/8 scope host lo')"
   ]
  },
  {
   "cell_type": "code",
   "execution_count": null,
   "id": "41facebb",
   "metadata": {},
   "outputs": [],
   "source": [
    "# Logical Operators\n",
    "# and, or, not\n",
    "t = True\n",
    "f = False\n",
    "print(t and f)\n",
    "print(t and t)\n",
    "print(f and f)\n",
    " \n",
    "print(t or f)\n",
    "print(t or t)\n",
    "print(f or f)\n",
    "\n",
    "print(not t)\n",
    "print(not f)"
   ]
  },
  {
   "cell_type": "code",
   "execution_count": null,
   "id": "42f2d642",
   "metadata": {},
   "outputs": [],
   "source": [
    "# Conditional Statements\n",
    "some_capture = 'password:qw3rty!'\n",
    "if 'pass' in some_capture:\n",
    "    print(some_capture)\n",
    "    \n",
    "# As you can see, python code block works based on indentation ( 4 spaces )\n",
    "# Which differs from the {} style in C, C++, Rust and Javascript"
   ]
  },
  {
   "cell_type": "code",
   "execution_count": null,
   "id": "d644849f",
   "metadata": {},
   "outputs": [],
   "source": [
    "# We can use as many elif's as we'd like\n",
    "x = input(\"$ \")\n",
    "if 'a' in x:\n",
    "    print('a')\n",
    "elif 'b' in x:\n",
    "    print('b')\n",
    "else:\n",
    "    print('cmon, do something')"
   ]
  },
  {
   "cell_type": "code",
   "execution_count": null,
   "id": "066a03eb",
   "metadata": {},
   "outputs": [],
   "source": [
    "x = 'banana'\n",
    "if 'a' in x:\n",
    "    if 'b' in x:\n",
    "        if 'n' in x:\n",
    "            print('This may be a banana')"
   ]
  },
  {
   "cell_type": "markdown",
   "id": "c9baf1be",
   "metadata": {},
   "source": [
    "## Iterations"
   ]
  },
  {
   "cell_type": "code",
   "execution_count": null,
   "id": "fceef928",
   "metadata": {},
   "outputs": [],
   "source": [
    "x  = 0\n",
    "while x != 10:\n",
    "    print(f\"{x} CVE ah ah ah\")\n",
    "    x += 1\n",
    "    \n",
    "# Explain why this is a really bad way of doing things"
   ]
  },
  {
   "cell_type": "code",
   "execution_count": null,
   "id": "566df05f",
   "metadata": {},
   "outputs": [],
   "source": [
    "for letter in \"Snakelet Bootcamp\":\n",
    "    print(item)"
   ]
  },
  {
   "cell_type": "code",
   "execution_count": null,
   "id": "0d1ed108",
   "metadata": {},
   "outputs": [],
   "source": [
    "for item in [1, 2, 3, 4, 5]:\n",
    "    print(item)"
   ]
  },
  {
   "cell_type": "code",
   "execution_count": null,
   "id": "1964d3b8",
   "metadata": {},
   "outputs": [],
   "source": [
    "# We can do the same here\n",
    "# And for both While and For, we can add an Else clause\n",
    "for x in range(5):\n",
    "    print(x)\n",
    "else:\n",
    "    print('Done!')\n",
    "    "
   ]
  },
  {
   "cell_type": "code",
   "execution_count": null,
   "id": "697c7e2e",
   "metadata": {},
   "outputs": [],
   "source": [
    "# When breaking, the else clause does get bypassed too!\n",
    "for i in range(100000000):\n",
    "    print(i)\n",
    "    if i >= 7:\n",
    "        break\n",
    "    if i >= 5:\n",
    "        continue\n",
    "else:\n",
    "    print('Done')"
   ]
  },
  {
   "cell_type": "code",
   "execution_count": null,
   "id": "5f5a2677",
   "metadata": {},
   "outputs": [],
   "source": [
    "summation = 0\n",
    "for i in range(10):\n",
    "    for j in range(10):\n",
    "        summation += j\n",
    "        print('i:', i)\n",
    "        print('j', j)\n",
    "print(summation)"
   ]
  },
  {
   "cell_type": "markdown",
   "id": "0025cbb9",
   "metadata": {},
   "source": [
    "### Exercise!\n",
    "Write a program that generates the Hosts and Networks for a Class C network\n",
    "Something like a 192.168.1.x/24 Network\n",
    "https://www.freecodecamp.org/news/subnet-cheat-sheet-24-subnet-mask-30-26-27-29-and-other-ip-address-cidr-network-references/\n",
    "\n",
    "For more points, make it so you can do it for Class A, Class B and Class C Networks"
   ]
  },
  {
   "cell_type": "markdown",
   "id": "fb598120",
   "metadata": {},
   "source": [
    "## Functions"
   ]
  },
  {
   "cell_type": "code",
   "execution_count": null,
   "id": "1d731749",
   "metadata": {},
   "outputs": [],
   "source": [
    "def function(param1: int, param2_with_default_value='Default Value': str) -> list:\n",
    "    param1 += 1\n",
    "    param2_with_default_value = 'Altered Value'\n",
    "    return [param1, param2_with_default_value]"
   ]
  },
  {
   "cell_type": "code",
   "execution_count": 1,
   "id": "869010a6",
   "metadata": {},
   "outputs": [
    {
     "name": "stdout",
     "output_type": "stream",
     "text": [
      "[*] Hello World\n"
     ]
    }
   ],
   "source": [
    "# Handy for reuse \n",
    "def string_prepper(string: str):\n",
    "    return '[*] ' + string\n",
    "\n",
    "print(string_prepper('Hello World'))"
   ]
  },
  {
   "cell_type": "code",
   "execution_count": 4,
   "id": "cf9abacd",
   "metadata": {},
   "outputs": [
    {
     "name": "stdout",
     "output_type": "stream",
     "text": [
      "The target has been set at 10.0.0.69\n",
      "what is the target? -> 10.0.0.5\n"
     ]
    }
   ],
   "source": [
    "# Scope of variables\n",
    "target = '10.0.0.5'\n",
    "\n",
    "def set_target():\n",
    "    target = '10.0.0.69'\n",
    "    print('The target has been set at', target)\n",
    "\n",
    "set_target()\n",
    "print('what is the target? ->', target)"
   ]
  },
  {
   "cell_type": "code",
   "execution_count": null,
   "id": "66e39460",
   "metadata": {},
   "outputs": [],
   "source": [
    "target = '10.0.0.5'\n",
    "\n",
    "def set_target():\n",
    "    global target # You have been a bad programmer!\n",
    "    target = '10.0.0.69'\n",
    "    print('The target has been set at', target)\n",
    "\n",
    "set_target()\n",
    "print('what is the target? ->', target)"
   ]
  },
  {
   "cell_type": "code",
   "execution_count": 2,
   "id": "1db99c95",
   "metadata": {},
   "outputs": [
    {
     "data": {
      "text/plain": [
       "True"
      ]
     },
     "execution_count": 2,
     "metadata": {},
     "output_type": "execute_result"
    }
   ],
   "source": [
    "# For checking the type of a parameter\n",
    "isinstance('Hello', str)"
   ]
  },
  {
   "cell_type": "code",
   "execution_count": null,
   "id": "00089b7d",
   "metadata": {},
   "outputs": [],
   "source": [
    "# Condition based returns\n",
    "def hostcheck(host: str):\n",
    "    if host == '127.0.0.1':\n",
    "        return 'Local Loopback'\n",
    "    return f'Host Address: {host}'"
   ]
  },
  {
   "cell_type": "code",
   "execution_count": 7,
   "id": "be03e0fd",
   "metadata": {},
   "outputs": [
    {
     "name": "stdout",
     "output_type": "stream",
     "text": [
      "144\n",
      "144\n"
     ]
    }
   ],
   "source": [
    "# Anonymous functions\n",
    "f = lambda x: x*x\n",
    "print(f(12))\n",
    "def f(x):\n",
    "    return x*x\n",
    "print(f(12))"
   ]
  },
  {
   "cell_type": "markdown",
   "id": "a72c64dd",
   "metadata": {},
   "source": [
    "## Recursion"
   ]
  },
  {
   "cell_type": "code",
   "execution_count": 9,
   "id": "b51f2160",
   "metadata": {},
   "outputs": [
    {
     "name": "stdout",
     "output_type": "stream",
     "text": [
      "120\n"
     ]
    }
   ],
   "source": [
    "# Factorial 5! = 5 * 4 * 3 * 2 * 1\n",
    "def factorial(n):\n",
    "    if n <= 1 :\n",
    "        return 1\n",
    "    return n * factorial(n - 1)\n",
    "print(factorial(5))"
   ]
  },
  {
   "cell_type": "code",
   "execution_count": null,
   "id": "e4cb1c80",
   "metadata": {},
   "outputs": [],
   "source": [
    "# Styling in python by Tim Peters\n",
    "import this"
   ]
  },
  {
   "cell_type": "code",
   "execution_count": null,
   "id": "b39de718",
   "metadata": {},
   "outputs": [],
   "source": [
    "import antigravity"
   ]
  },
  {
   "cell_type": "code",
   "execution_count": null,
   "id": "6e16e6cc",
   "metadata": {},
   "outputs": [],
   "source": [
    "\"\"\"\n",
    "Additional Tips\n",
    "Python Docs: https://docs.python.org/3/\n",
    "Or in your terminal you can use `pydoc`\n",
    "\n",
    "Use a linter inside your texteditor such as black, flake8\n",
    "autopep8 makes your code pep8 compliant, so you have good codestyle\n",
    "GIT for versioning\n",
    "\"\"\""
   ]
  }
 ],
 "metadata": {
  "kernelspec": {
   "display_name": "Python 3 (ipykernel)",
   "language": "python",
   "name": "python3"
  },
  "language_info": {
   "codemirror_mode": {
    "name": "ipython",
    "version": 3
   },
   "file_extension": ".py",
   "mimetype": "text/x-python",
   "name": "python",
   "nbconvert_exporter": "python",
   "pygments_lexer": "ipython3",
   "version": "3.12.8"
  }
 },
 "nbformat": 4,
 "nbformat_minor": 5
}
