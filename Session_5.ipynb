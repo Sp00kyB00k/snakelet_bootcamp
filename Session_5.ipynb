{
 "cells": [
  {
   "cell_type": "markdown",
   "id": "df40ea3b",
   "metadata": {},
   "source": [
    "# Session 5\n",
    "- Command Line Processing\n",
    "- Regular Expressions\n",
    "- File Formats\n",
    "- Various helpful modules + some more from personal experience"
   ]
  },
  {
   "cell_type": "markdown",
   "id": "4e039a99",
   "metadata": {},
   "source": [
    "## Command Line Processsing\n",
    "```python\n",
    "python3 -m program_name argument_1 argument_2\n",
    "python3 program_name.py argument_1 argument_2\n",
    "```\n",
    "We can create command line tools in Python through two modules in the standard module\n",
    "1. [sys argv](https://docs.python.org/3/library/sys.html#sys.argv)\n",
    "2. [argparse](https://docs.python.org/3/library/argparse.html)\n",
    "3. [optparse](https://docs.python.org/3/library/optparse.html)\n",
    "4. [getopt](https://docs.python.org/3/library/getopt.html)   # Don't use this one\n",
    "\n",
    "And good external ones are:\n",
    "1. [click](https://click.palletsprojects.com/en/stable/)\n",
    "2. [msgspec-click](https://github.com/ofek/msgspec-click)\n",
    "3. [typer](https://typer.tiangolo.com/)\n",
    "\n",
    "<br>\n",
    "\n",
    "The goal is to give a general view on what to expect.  \n",
    "You will need to experiment with it yourself outside of this Notebook.  "
   ]
  },
  {
   "cell_type": "code",
   "execution_count": null,
   "id": "85963aeb",
   "metadata": {},
   "outputs": [],
   "source": [
    "import sys\n",
    "\n",
    "# using len(sys.argv) as argc alternative in Python\n",
    "if len(sys.argv) != 4:\n",
    "    print(\"Three arguments needed\")\n",
    "    sys.exit()\n",
    "    \n",
    "print(f'The name of the program: {sys.argv[0]')\n",
    "print(f'The first argument: {sys.argv[1]}')\n",
    "print(f'The second argument: {sys.argv[2]}')\n",
    "print(f'The third argument: {sys.argv[3]}')"
   ]
  },
  {
   "cell_type": "markdown",
   "id": "d073b4bc",
   "metadata": {},
   "source": [
    "One could work with argv, but a lot of matching cases needs to be done.  \n",
    "It is a lot more error prone.  \n",
    "I rather prefer the other options available, these are more forgiving.  "
   ]
  },
  {
   "cell_type": "code",
   "execution_count": null,
   "id": "1e5b3a88",
   "metadata": {},
   "outputs": [],
   "source": [
    "import optparse\n",
    "\n",
    "if __name__ == '__main__':\n",
    "    parser = optparse.OptionParser()\n",
    "    parser.add_option('-o', '--output')\n",
    "    parser.add_option('-v', dest='verbose', action='store_true')\n",
    "    opts, args = parser.parse_args()\n",
    "    process(args, output=opts.output, verbose=opts.verbose)"
   ]
  },
  {
   "cell_type": "code",
   "execution_count": null,
   "id": "72be4f18",
   "metadata": {},
   "outputs": [],
   "source": [
    "import argparse\n",
    "\n",
    "if __name__ == '__main__':\n",
    "    parser = argparse.ArgumentParser()\n",
    "    parser.add_argument('-o', '--output')\n",
    "    parser.add_argument('-v', dest='verbose', action='store_true')\n",
    "    parser.add_argument('rest', nargs='*')\n",
    "    args = parser.parse_args()\n",
    "    process(args.rest, output=args.output, verbose=args.verbose)"
   ]
  },
  {
   "cell_type": "markdown",
   "id": "9f84066b",
   "metadata": {},
   "source": [
    "**The difference between Optparse and argparse**  \n",
    "Optparse separates the options and arguments.  \n",
    "Optparse gives more control and is less 'opiniated'.  \n",
    "For most use cases, it is recommended to use Argparse.  "
   ]
  },
  {
   "cell_type": "code",
   "execution_count": null,
   "id": "db989b2b",
   "metadata": {},
   "outputs": [],
   "source": [
    "# Works with decorators -> https://realpython.com/primer-on-python-decorators/\n",
    "import click\n",
    "\n",
    "@click.command()\n",
    "@click.option('-i', help='Interactive Mode')\n",
    "def send_cmd(ip: str, port: int):\n",
    "    pass"
   ]
  },
  {
   "cell_type": "markdown",
   "id": "4043c393",
   "metadata": {},
   "source": [
    "## Regular Expressions\n",
    "Somehow I keep bashing on about it but read the [Python Docs](https://docs.python.org/3/howto/regex.html).  \n",
    "Regular expressions provide pattern matching.  \n",
    "These are regular strings with 'metacharacters'.  \n",
    "These characters have a different meaning.  \n",
    "\n",
    "**All Meta characters**\n",
    "|Character|Meaning|\n",
    "|--|--|\n",
    "|\\.|Matches any character (except newline)|\n",
    "|\\[\\]|Matches a group of characters|\n",
    "|\\*|Zero or more occurences|\n",
    "|\\+|One or more occurences|\n",
    "|{}|Exactly the specified amount of occurences|\n",
    "|?|Zero or one occurences|\n",
    "|^|Starts with|\n",
    "|$|Ends with|\n",
    "|\\||Either one or the other|\n",
    "|()|Capture a group|\n",
    "|\\\\|Special sequence or escape character|\n",
    "\n",
    "**Special Sequences**\n",
    "|Character|Meaning|\n",
    "|--|--|\n",
    "|\\A|Returns a match if the specified characters are at the beginning of the string|\n",
    "|\\b|Returns a match where the specified characters are at the beginning or at the end of a word|\n",
    "|\\B|Returns a match where the specified characters are present, but NOT at the beginning (or at the end) of a word|\n",
    "|\\d|Returns a match where the string contains digits (numbers from 0-9)|\n",
    "|\\D|Returns a match where the string DOES NOT contain digits|\n",
    "|\\s|Returns a match where the string contains a white space character|\n",
    "|\\S|Returns a match where the string DOES NOT contain a white space character|\n",
    "|\\w|Returns a match where the string contains any word characters (characters from a to Z, digits from 0-9, and the underscore _ character)|\n",
    "|\\W|Returns a match where the string DOES NOT contain any word characters|\n",
    "|\\Z|Returns a match if the specified characters are at the end of the string|\n",
    "|\\n|Newline character|\n",
    "|\\r|Carriage return|\n",
    "|\\t|Tabulation|\n",
    "|\\\\/|Forward slash|\n",
    "|\\\\\\\\|Backward slash|\n",
    "|\\\\\"|Double Quote|\n",
    "|\\\\'|Single Quote|\n"
   ]
  },
  {
   "cell_type": "code",
   "execution_count": null,
   "id": "299389f4",
   "metadata": {},
   "outputs": [],
   "source": [
    "import re\n",
    "\n",
    "# the r in front of the string tells python to use a raw string\n",
    "# so it doesn't try to convert parts itself according to standard Python string interpretations\n",
    "# the compile 'compiles' a regular expression into a Pattern Object\n",
    "find_a = re.compile(r\"a+\")\n",
    "answer = find_a.findall(\"aardvark\")\n",
    "print(answer)"
   ]
  },
  {
   "cell_type": "code",
   "execution_count": null,
   "id": "29243ee2",
   "metadata": {},
   "outputs": [],
   "source": [
    "# Finding all occurences and returning it\n",
    "import re\n",
    "\n",
    "print(re.findall(r'a+', 'aardvark'))"
   ]
  },
  {
   "cell_type": "code",
   "execution_count": null,
   "id": "9ccaff88",
   "metadata": {},
   "outputs": [],
   "source": [
    "# Finding the location of the object\n",
    "import re\n",
    "\n",
    "# re.search returns a Match object for first occurence in the string\n",
    "m = re.search(r'a+', \n",
    "              'Aardvarks are medium-sized, burrowing, nocturnal mammals native to Africa.\\\n",
    "              Aardvarks are the only living species of the family Orycteropodidae and the order Tubulidentata.\\\n",
    "              They have a long proboscis, similar to a pig\\'s snout, which is used to sniff out food.')\n",
    "print(f'{m.group()} is found at index {m.start()}')\n",
    "\n",
    "# Methods for the match object are\n",
    "# group -> returns the found pattern\n",
    "# start -> returns at which patterns start\n",
    "# end   -> returns where patterns has ended"
   ]
  },
  {
   "cell_type": "code",
   "execution_count": null,
   "id": "52480506",
   "metadata": {},
   "outputs": [],
   "source": [
    "import re\n",
    "\n",
    "# re.match returns a Match Object if the string starts with the pattern\n",
    "m = re.match(r'a+', 'Look out for the banana')\n",
    "if m:\n",
    "    print(f'{m.group()} starts the string')\n",
    "else:\n",
    "    print('The pattern does not start at the beginning of the string')"
   ]
  },
  {
   "cell_type": "code",
   "execution_count": null,
   "id": "12f01ac1",
   "metadata": {},
   "outputs": [],
   "source": [
    "# This one is handy for dealing with a lot of stuff\n",
    "import re\n",
    "\n",
    "# finditer, returns an iterator of Match Objects for all occurences found\n",
    "mlist = re.finditer( r\"a+\", \"Look out! A dangerous aardvark is on the loose !\" )\n",
    "for m in mlist :\n",
    "    print(f\"{m.group()} starts at index {m.start()} and ends at index {m.end()}.\")"
   ]
  },
  {
   "cell_type": "code",
   "execution_count": null,
   "id": "292eb7bf",
   "metadata": {},
   "outputs": [],
   "source": [
    "import re\n",
    "\n",
    "# ball, bell, bill, boll, bull, we want them all\n",
    "# [] designates a group of characters to match\n",
    "slist = re.findall(r\"b[aeiou]ll\", \n",
    "                    \"Bill Gates and Uwe Boll drank Red Bull at a football match in Campbell.\")\n",
    "print(slist)"
   ]
  },
  {
   "cell_type": "code",
   "execution_count": null,
   "id": "f4333fe6",
   "metadata": {},
   "outputs": [],
   "source": [
    "import re\n",
    "\n",
    "mlist = re.finditer(r\"ba+\",\"A sheep says ' baaaaah ' to Ali Baba.\")\n",
    "for m in mlist:\n",
    "    print(f\"{m.group()} is found at {m.start()}.\")"
   ]
  },
  {
   "cell_type": "code",
   "execution_count": null,
   "id": "3976b97c",
   "metadata": {},
   "outputs": [],
   "source": [
    "import re\n",
    "\n",
    "# Capture a group of characters with ()\n",
    "# \\d{1,2} means one or two digits\n",
    "# group(0) means all\n",
    "# The rest are the individual capture groups as defined\n",
    "# or use groups for a tuple of all the groups\n",
    "date = re.compile(r\"(\\d{1,2})-(\\d{1,2})-(\\d{4})\")\n",
    "m = date.search(\"In response to your letter of 25-3-2015 , I decided to hire a hitman to get you.\" )\n",
    "if m:\n",
    "    print(f\"Date {m.group(0)}; day {m.group(1)}; month {m.group(2)}; year {m.group(3)}\")\n",
    "    print(m.groups())"
   ]
  },
  {
   "cell_type": "code",
   "execution_count": null,
   "id": "55147b2f",
   "metadata": {},
   "outputs": [],
   "source": [
    "import re\n",
    "\n",
    "# findall methods returns a list of pattern objects\n",
    "# in all examples so far it returned a list of strings\n",
    "# but with MULTIPLE groups, pattern objects are tuples that contain the groups\n",
    "date = re.compile(r\"(\\d{1,2})-(\\d{1,2})-(\\d{4})\")\n",
    "dlist = date.findall(\"In response to your letter of 25-3-2015, on 27-3-2015 I decided to hire a hitman to get you.\")\n",
    "for date in dlist :\n",
    "    print(date)"
   ]
  },
  {
   "cell_type": "code",
   "execution_count": null,
   "id": "40061075",
   "metadata": {},
   "outputs": [],
   "source": [
    "import re\n",
    "\n",
    "# We can name the groups too!\n",
    "# ?P<name> before the pattern inside of the capture group\n",
    "date = re.compile(r\"(?P<day>\\d{1,2})-(?P<month>\\d{1,2})-(?P<year>\\d{4})\")\n",
    "m = date.search(\"In response to your letter of 25-3-2015, I have to admit that you are a butt ugly motherfucker\")\n",
    "if m:\n",
    "    print(f\"day is {m.group('day')}\")\n",
    "    print(f\"month is {m.group('month')}\")\n",
    "    print(f\"year is {m.group('year')}\")"
   ]
  },
  {
   "cell_type": "code",
   "execution_count": null,
   "id": "b7503bc7",
   "metadata": {},
   "outputs": [],
   "source": [
    "import re\n",
    "\n",
    "# And lastly, we can replace stuff too!\n",
    "# refering back to the group number \\g<number>\n",
    "s = re.sub(r\"([iy])se\", \"\\g<1>ze\", \n",
    "           \"Whether you categorise, emphasise, or analyse, you should use American spelling !\" )\n",
    "print(s)"
   ]
  },
  {
   "cell_type": "markdown",
   "id": "00e5f7d1",
   "metadata": {},
   "source": [
    "## File Formats\n",
    "1. Comma Separated Values\n",
    "2. Pickling\n",
    "3. Javascript Object Notation\n",
    "4. HTML & XML"
   ]
  },
  {
   "cell_type": "markdown",
   "id": "8b2759de",
   "metadata": {},
   "source": [
    "We can open any CSV the normal way and strip newline.  \n",
    "But CSV is not standardized.  \n",
    "Python has a module for it to deal with all the dialects.  \n",
    "It is, creatively, called csv."
   ]
  },
  {
   "cell_type": "code",
   "execution_count": null,
   "id": "8ba01541",
   "metadata": {},
   "outputs": [],
   "source": [
    "import csv\n",
    "\n",
    "# recommendation from Python docs to add newline=''\n",
    "with open('movies.csv', 'w', newline='') as f:\n",
    "    writer = csv.writer(f)\n",
    "    writer.writerow(['MOVIE', 'RATING'])\n",
    "    writer.writerow([\"Monty Python and the Holy Grail\", 8])\n",
    "    writer.writerow([\"Monty Python's Life of Brian\", 8.5])\n",
    "    writer.writerow([\"Monty Python's Meaning of Life\", 7])\n",
    "    \n",
    "with open('movies.csv', 'r', newline='') as f:\n",
    "    reader = csv.reader(f, delimiter=',')\n",
    "    \n",
    "    # How do we skip the HEADER?\n",
    "    \n",
    "    for line in reader:\n",
    "        print(line)"
   ]
  },
  {
   "cell_type": "code",
   "execution_count": null,
   "id": "40bfac6d",
   "metadata": {},
   "outputs": [],
   "source": [
    "# Please don't use pickle for security reasons\n",
    "from pickle import dump, load\n",
    "\n",
    "cheeseshop = [(\"Roquefort\", 12, 15.23), (\"White Stilton\", 25, 19.02), (\"Cheddar\", 5, 0.67)]\n",
    "\n",
    "# Store as binary file\n",
    "with open(\"cheese.pck\", \"wb\") as f:\n",
    "    dump(cheeseshop, f)\n",
    "print(\"Cheeseshop was pickled\")\n",
    "\n",
    "# Open as binary file\n",
    "with open(\"cheese.pck\", \"rb\") as f:\n",
    "    buffer = load(f)\n",
    "    print(type(buffer))\n",
    "    print(buffer)"
   ]
  },
  {
   "cell_type": "code",
   "execution_count": null,
   "id": "10902c79",
   "metadata": {},
   "outputs": [],
   "source": [
    "from json import dump, load\n",
    "\n",
    "# dump and load, take in a file\n",
    "# dumps and loads, take in a string\n",
    "\n",
    "cheeseshop = [(\"Roquefort\", 12, 15.23), (\"White Stilton\", 25, 19.02), (\"Cheddar\", 5, 0.67)]\n",
    "\n",
    "with open(\"cheese.json\", \"w\") as f:\n",
    "    dump(cheeseshop, f)\n",
    "\n",
    "with open(\"cheese.json\", \"r\") as f:\n",
    "    buffer = load(f)\n",
    "    print(type(buffer))\n",
    "    print(buffer)"
   ]
  },
  {
   "cell_type": "code",
   "execution_count": null,
   "id": "c02e684e",
   "metadata": {},
   "outputs": [],
   "source": [
    "# for HTML and XML parsing -> https://beautiful-soup-4.readthedocs.io/en/latest/\n",
    "from bs4 import BeautifulSoup\n",
    "\n",
    "html_doc = \"\"\"\n",
    "<html><head><title>The Dormouse's story</title></head>\n",
    "<body>\n",
    "<p class=\"title\"><b>The Dormouse's story</b></p>\n",
    "\n",
    "<p class=\"story\">Once upon a time there were three little sisters; and their names were\n",
    "<a href=\"http://example.com/elsie\" class=\"sister\" id=\"link1\">Elsie</a>,\n",
    "<a href=\"http://example.com/lacie\" class=\"sister\" id=\"link2\">Lacie</a> and\n",
    "<a href=\"http://example.com/tillie\" class=\"sister\" id=\"link3\">Tillie</a>;\n",
    "and they lived at the bottom of a well.</p>\n",
    "\n",
    "<p class=\"story\">...</p>\n",
    "\"\"\"\n",
    "\n",
    "soup = BeautifulSoup(html_doc, 'html.parser')\n",
    "print(soup.prettify())\n",
    "print(soup.title)"
   ]
  }
 ],
 "metadata": {
  "kernelspec": {
   "display_name": "Python 3 (ipykernel)",
   "language": "python",
   "name": "python3"
  },
  "language_info": {
   "codemirror_mode": {
    "name": "ipython",
    "version": 3
   },
   "file_extension": ".py",
   "mimetype": "text/x-python",
   "name": "python",
   "nbconvert_exporter": "python",
   "pygments_lexer": "ipython3",
   "version": "3.13.2"
  }
 },
 "nbformat": 4,
 "nbformat_minor": 5
}
