{
 "cells": [
  {
   "cell_type": "markdown",
   "id": "df40ea3b",
   "metadata": {},
   "source": [
    "# Session 5\n",
    "- Command Line Processing\n",
    "- Regular Expressions\n",
    "- File Formats\n",
    "- Various helpful modules + some more from personal experience"
   ]
  },
  {
   "cell_type": "markdown",
   "id": "4e039a99",
   "metadata": {},
   "source": [
    "## Command Line Processsing\n",
    "```python\n",
    "python3 -m program_name argument_1 argument_2\n",
    "python3 program_name.py argument_1 argument_2\n",
    "```\n",
    "We can create command line tools in Python through two modules in the standard module\n",
    "1. [sys argv](https://docs.python.org/3/library/sys.html#sys.argv)\n",
    "2. [argparse](https://docs.python.org/3/library/argparse.html)\n",
    "3. [optparse](https://docs.python.org/3/library/optparse.html)\n",
    "4. [getopt](https://docs.python.org/3/library/getopt.html)   # Don't use this one\n",
    "\n",
    "And good external ones are:\n",
    "1. [click](https://click.palletsprojects.com/en/stable/)\n",
    "2. [msgspec-click](https://github.com/ofek/msgspec-click)\n",
    "3. [typer](https://typer.tiangolo.com/)\n",
    "\n",
    "<br>\n",
    "\n",
    "The goal is to give a general view on what to expect.  \n",
    "You will need to experiment with it yourself outside of this Notebook.  "
   ]
  },
  {
   "cell_type": "code",
   "execution_count": null,
   "id": "85963aeb",
   "metadata": {},
   "outputs": [],
   "source": [
    "import sys\n",
    "\n",
    "# using len(sys.argv) as argc alternative in Python\n",
    "if len(sys.argv) != 4:\n",
    "    print(\"Three arguments needed\")\n",
    "    sys.exit()\n",
    "    \n",
    "print(f'The name of the program: {sys.argv[0]')\n",
    "print(f'The first argument: {sys.argv[1]}')\n",
    "print(f'The second argument: {sys.argv[2]}')\n",
    "print(f'The third argument: {sys.argv[3]}')"
   ]
  },
  {
   "cell_type": "markdown",
   "id": "d073b4bc",
   "metadata": {},
   "source": [
    "One could work with argv, but a lot of matching cases needs to be done.  \n",
    "It is a lot more error prone.  \n",
    "I rather prefer the other options available, these are more forgiving.  "
   ]
  },
  {
   "cell_type": "code",
   "execution_count": null,
   "id": "1e5b3a88",
   "metadata": {},
   "outputs": [],
   "source": [
    "import optparse\n",
    "\n",
    "if __name__ == '__main__':\n",
    "    parser = optparse.OptionParser()\n",
    "    parser.add_option('-o', '--output')\n",
    "    parser.add_option('-v', dest='verbose', action='store_true')\n",
    "    opts, args = parser.parse_args()\n",
    "    process(args, output=opts.output, verbose=opts.verbose)"
   ]
  },
  {
   "cell_type": "code",
   "execution_count": null,
   "id": "72be4f18",
   "metadata": {},
   "outputs": [],
   "source": [
    "import argparse\n",
    "\n",
    "if __name__ == '__main__':\n",
    "    parser = argparse.ArgumentParser()\n",
    "    parser.add_argument('-o', '--output')\n",
    "    parser.add_argument('-v', dest='verbose', action='store_true')\n",
    "    parser.add_argument('rest', nargs='*')\n",
    "    args = parser.parse_args()\n",
    "    process(args.rest, output=args.output, verbose=args.verbose)"
   ]
  },
  {
   "cell_type": "markdown",
   "id": "9f84066b",
   "metadata": {},
   "source": [
    "**The difference between Optparse and argparse**  \n",
    "Optparse separates the options and arguments.  \n",
    "Optparse gives more control and is less 'opiniated'.  \n",
    "For most use cases, it is recommended to use Argparse.  "
   ]
  },
  {
   "cell_type": "code",
   "execution_count": 1,
   "id": "db989b2b",
   "metadata": {},
   "outputs": [],
   "source": [
    "# Works with decorators -> https://realpython.com/primer-on-python-decorators/\n",
    "import click\n",
    "\n",
    "def decorator(fn):\n",
    "    do_something()\n",
    "    fn()\n",
    "    do_something()\n",
    "\n",
    "@click.command()\n",
    "@click.option('-i', help='Interactive Mode')\n",
    "def send_cmd(ip: str, port: int):\n",
    "    pass"
   ]
  },
  {
   "cell_type": "markdown",
   "id": "4043c393",
   "metadata": {},
   "source": [
    "## Regular Expressions\n",
    "Somehow I keep bashing on about it but read the [Python Docs](https://docs.python.org/3/howto/regex.html).  \n",
    "Regular expressions provide pattern matching.  \n",
    "These are regular strings with 'metacharacters'.  \n",
    "These characters have a different meaning.  \n",
    "\n",
    "**All Meta characters**\n",
    "|Character|Meaning|\n",
    "|--|--|\n",
    "|\\.|Matches any character (except newline)|\n",
    "|\\[\\]|Matches a group of characters|\n",
    "|\\*|Zero or more occurences|\n",
    "|\\+|One or more occurences|\n",
    "|{}|Exactly the specified amount of occurences|\n",
    "|?|Zero or one occurences|\n",
    "|^|Starts with|\n",
    "|$|Ends with|\n",
    "|\\||Either one or the other|\n",
    "|()|Capture a group|\n",
    "|\\\\|Special sequence or escape character|\n",
    "\n",
    "**Special Sequences**\n",
    "|Character|Meaning|\n",
    "|--|--|\n",
    "|\\A|Returns a match if the specified characters are at the beginning of the string|\n",
    "|\\b|Returns a match where the specified characters are at the beginning or at the end of a word|\n",
    "|\\B|Returns a match where the specified characters are present, but NOT at the beginning (or at the end) of a word|\n",
    "|\\d|Returns a match where the string contains digits (numbers from 0-9)|\n",
    "|\\D|Returns a match where the string DOES NOT contain digits|\n",
    "|\\s|Returns a match where the string contains a white space character|\n",
    "|\\S|Returns a match where the string DOES NOT contain a white space character|\n",
    "|\\w|Returns a match where the string contains any word characters (characters from a to Z, digits from 0-9, and the underscore _ character)|\n",
    "|\\W|Returns a match where the string DOES NOT contain any word characters|\n",
    "|\\Z|Returns a match if the specified characters are at the end of the string|\n",
    "|\\n|Newline character|\n",
    "|\\r|Carriage return|\n",
    "|\\t|Tabulation|\n",
    "|\\\\/|Forward slash|\n",
    "|\\\\\\\\|Backward slash|\n",
    "|\\\\\"|Double Quote|\n",
    "|\\\\'|Single Quote|\n"
   ]
  },
  {
   "cell_type": "code",
   "execution_count": 2,
   "id": "299389f4",
   "metadata": {},
   "outputs": [
    {
     "name": "stdout",
     "output_type": "stream",
     "text": [
      "['aa', 'a']\n"
     ]
    }
   ],
   "source": [
    "import re\n",
    "\n",
    "# the r in front of the string tells python to use a raw string\n",
    "# so it doesn't try to convert parts itself according to standard Python string interpretations\n",
    "# the compile 'compiles' a regular expression into a Pattern Object\n",
    "find_a = re.compile(r\"a+\")\n",
    "answer = find_a.findall(\"aardvark\")\n",
    "print(answer)"
   ]
  },
  {
   "cell_type": "code",
   "execution_count": 3,
   "id": "29243ee2",
   "metadata": {},
   "outputs": [
    {
     "name": "stdout",
     "output_type": "stream",
     "text": [
      "['aa', 'a']\n"
     ]
    }
   ],
   "source": [
    "# Finding all occurences and returning it\n",
    "import re\n",
    "\n",
    "print(re.findall(r'a+', 'aardvark'))"
   ]
  },
  {
   "cell_type": "code",
   "execution_count": 4,
   "id": "9ccaff88",
   "metadata": {},
   "outputs": [
    {
     "name": "stdout",
     "output_type": "stream",
     "text": [
      "a is found at index 1\n"
     ]
    }
   ],
   "source": [
    "# Finding the location of the object\n",
    "import re\n",
    "\n",
    "# re.search returns a Match object for first occurence in the string\n",
    "m = re.search(r'a+', \n",
    "              'Aardvarks are medium-sized, burrowing, nocturnal mammals native to Africa.\\\n",
    "              Aardvarks are the only living species of the family Orycteropodidae and the order Tubulidentata.\\\n",
    "              They have a long proboscis, similar to a pig\\'s snout, which is used to sniff out food.')\n",
    "print(f'{m.group()} is found at index {m.start()}')\n",
    "\n",
    "# Methods for the match object are\n",
    "# group -> returns the found pattern\n",
    "# start -> returns at which patterns start\n",
    "# end   -> returns where patterns has ended"
   ]
  },
  {
   "cell_type": "code",
   "execution_count": 5,
   "id": "52480506",
   "metadata": {},
   "outputs": [
    {
     "name": "stdout",
     "output_type": "stream",
     "text": [
      "The pattern does not start at the beginning of the string\n"
     ]
    }
   ],
   "source": [
    "import re\n",
    "\n",
    "# re.match returns a Match Object if the string starts with the pattern\n",
    "m = re.match(r'a+', 'Look out for the banana')\n",
    "if m:\n",
    "    print(f'{m.group()} starts the string')\n",
    "else:\n",
    "    print('The pattern does not start at the beginning of the string')"
   ]
  },
  {
   "cell_type": "code",
   "execution_count": 6,
   "id": "12f01ac1",
   "metadata": {},
   "outputs": [
    {
     "name": "stdout",
     "output_type": "stream",
     "text": [
      "a starts at index 13 and ends at index 14.\n",
      "aa starts at index 22 and ends at index 24.\n",
      "a starts at index 27 and ends at index 28.\n"
     ]
    }
   ],
   "source": [
    "# This one is handy for dealing with a lot of stuff\n",
    "import re\n",
    "\n",
    "# finditer, returns an iterator of Match Objects for all occurences found\n",
    "mlist = re.finditer( r\"a+\", \"Look out! A dangerous aardvark is on the loose !\" )\n",
    "for m in mlist:\n",
    "    print(f\"{m.group()} starts at index {m.start()} and ends at index {m.end()}.\")"
   ]
  },
  {
   "cell_type": "code",
   "execution_count": 8,
   "id": "292eb7bf",
   "metadata": {},
   "outputs": [
    {
     "name": "stdout",
     "output_type": "stream",
     "text": [
      "['Bill', 'Boll', 'Bull', 'ball', 'bell']\n"
     ]
    }
   ],
   "source": [
    "import re\n",
    "\n",
    "# ball, bell, bill, boll, bull, we want them all\n",
    "# [] designates a group of characters to match\n",
    "slist = re.findall(r\"[Bb][aeiou]ll\", \n",
    "                    \"Bill Gates and Uwe Boll drank Red Bull at a football match in Campbell.\")\n",
    "print(slist)"
   ]
  },
  {
   "cell_type": "code",
   "execution_count": 9,
   "id": "f4333fe6",
   "metadata": {},
   "outputs": [
    {
     "name": "stdout",
     "output_type": "stream",
     "text": [
      "baaaaa is found at 15.\n",
      "ba is found at 34.\n"
     ]
    }
   ],
   "source": [
    "import re\n",
    "\n",
    "mlist = re.finditer(r\"ba+\",\"A sheep says ' baaaaah ' to Ali Baba.\")\n",
    "for m in mlist:\n",
    "    print(f\"{m.group()} is found at {m.start()}.\")"
   ]
  },
  {
   "cell_type": "code",
   "execution_count": 10,
   "id": "3976b97c",
   "metadata": {},
   "outputs": [
    {
     "name": "stdout",
     "output_type": "stream",
     "text": [
      "Date 25-3-2015; day 25; month 3; year 2015\n",
      "('25', '3', '2015')\n"
     ]
    }
   ],
   "source": [
    "import re\n",
    "\n",
    "# Capture a group of characters with ()\n",
    "# \\d{1,2} means one or two digits\n",
    "# group(0) means all\n",
    "# The rest are the individual capture groups as defined\n",
    "# or use groups for a tuple of all the groups\n",
    "date = re.compile(r\"(\\d{1,2})-(\\d{1,2})-(\\d{4})\")\n",
    "m = date.search(\"In response to your letter of 25-3-2015 , I decided to hire a hitman to get you.\" )\n",
    "if m:\n",
    "    print(f\"Date {m.group(0)}; day {m.group(1)}; month {m.group(2)}; year {m.group(3)}\")\n",
    "    print(m.groups())"
   ]
  },
  {
   "cell_type": "code",
   "execution_count": 13,
   "id": "55147b2f",
   "metadata": {},
   "outputs": [
    {
     "name": "stdout",
     "output_type": "stream",
     "text": [
      "('25', '3', '2015')\n",
      "('27', '3', '2015')\n"
     ]
    }
   ],
   "source": [
    "import re\n",
    "\n",
    "# findall methods returns a list of pattern objects\n",
    "# in all examples so far it returned a list of strings\n",
    "# but with MULTIPLE groups, pattern objects are tuples that contain the groups\n",
    "date = re.compile(r\"(\\d{1,2})-(\\d{1,2})-(\\d{4})\")\n",
    "dlist = date.findall(\"In response to your letter of 25-3-2015, on 27-3-2015 I decided to hire a hitman to get you.\")\n",
    "for date in dlist :\n",
    "    print(date)"
   ]
  },
  {
   "cell_type": "code",
   "execution_count": 14,
   "id": "40061075",
   "metadata": {},
   "outputs": [
    {
     "name": "stdout",
     "output_type": "stream",
     "text": [
      "day is 25\n",
      "month is 3\n",
      "year is 2015\n"
     ]
    }
   ],
   "source": [
    "import re\n",
    "\n",
    "# We can name the groups too!\n",
    "# ?P<name> before the pattern inside of the capture group\n",
    "date = re.compile(r\"(?P<day>\\d{1,2})-(?P<month>\\d{1,2})-(?P<year>\\d{4})\")\n",
    "m = date.search(\"In response to your letter of 25-3-2015, I have to admit that you are a butt ugly motherfucker\")\n",
    "if m:\n",
    "    print(f\"day is {m.group('day')}\")\n",
    "    print(f\"month is {m.group('month')}\")\n",
    "    print(f\"year is {m.group('year')}\")"
   ]
  },
  {
   "cell_type": "code",
   "execution_count": 15,
   "id": "b7503bc7",
   "metadata": {},
   "outputs": [
    {
     "name": "stdout",
     "output_type": "stream",
     "text": [
      "Whether you categorize, emphasize, or analyze, you should use American spelling !\n"
     ]
    },
    {
     "name": "stderr",
     "output_type": "stream",
     "text": [
      "<>:5: SyntaxWarning: invalid escape sequence '\\g'\n",
      "<>:5: SyntaxWarning: invalid escape sequence '\\g'\n",
      "/tmp/ipykernel_33163/3205089197.py:5: SyntaxWarning: invalid escape sequence '\\g'\n",
      "  s = re.sub(r\"([iy])se\", \"\\g<1>ze\",\n"
     ]
    }
   ],
   "source": [
    "import re\n",
    "\n",
    "# And lastly, we can replace stuff too!\n",
    "# refering back to the group number \\g<number>\n",
    "s = re.sub(r\"([iy])se\", \"\\g<1>ze\", \n",
    "           \"Whether you categorise, emphasise, or analyse, you should use American spelling !\" )\n",
    "print(s)"
   ]
  },
  {
   "cell_type": "markdown",
   "id": "00e5f7d1",
   "metadata": {},
   "source": [
    "## File Formats\n",
    "1. Comma Separated Values\n",
    "2. Pickling\n",
    "3. Javascript Object Notation\n",
    "4. HTML & XML"
   ]
  },
  {
   "cell_type": "markdown",
   "id": "8b2759de",
   "metadata": {},
   "source": [
    "We can open any CSV the normal way and strip newline.  \n",
    "But CSV is not standardized.  \n",
    "Python has a module for it to deal with all the dialects.  \n",
    "It is, creatively, called csv."
   ]
  },
  {
   "cell_type": "code",
   "execution_count": 19,
   "id": "8ba01541",
   "metadata": {},
   "outputs": [
    {
     "name": "stdout",
     "output_type": "stream",
     "text": [
      "['Monty Python and the Holy Grail', '8']\n",
      "[\"Monty Python's Life of Brian\", '8.5']\n",
      "[\"Monty Python's Meaning of Life\", '7']\n"
     ]
    }
   ],
   "source": [
    "import csv\n",
    "\n",
    "# recommendation from Python docs to add newline=''\n",
    "with open('movies.csv', 'w', newline='') as f:\n",
    "    writer = csv.writer(f)\n",
    "    writer.writerow(['MOVIE', 'RATING'])\n",
    "    writer.writerow([\"Monty Python and the Holy Grail\", 8])\n",
    "    writer.writerow([\"Monty Python's Life of Brian\", 8.5])\n",
    "    writer.writerow([\"Monty Python's Meaning of Life\", 7])\n",
    "    \n",
    "with open('movies.csv', 'r', newline='') as f:\n",
    "    reader = csv.reader(f, delimiter=',')\n",
    "    \n",
    "    # How do we skip the HEADER?\n",
    "    next(reader)\n",
    "    for line in reader:\n",
    "        print(line)"
   ]
  },
  {
   "cell_type": "code",
   "execution_count": 20,
   "id": "40bfac6d",
   "metadata": {},
   "outputs": [
    {
     "name": "stdout",
     "output_type": "stream",
     "text": [
      "Cheeseshop was pickled\n",
      "<class 'list'>\n",
      "[('Roquefort', 12, 15.23), ('White Stilton', 25, 19.02), ('Cheddar', 5, 0.67)]\n"
     ]
    }
   ],
   "source": [
    "# Please don't use pickle for security reasons\n",
    "from pickle import dump, load\n",
    "\n",
    "cheeseshop = [(\"Roquefort\", 12, 15.23), (\"White Stilton\", 25, 19.02), (\"Cheddar\", 5, 0.67)]\n",
    "\n",
    "# Store as binary file\n",
    "with open(\"cheese.pck\", \"wb\") as f:\n",
    "    dump(cheeseshop, f)\n",
    "print(\"Cheeseshop was pickled\")\n",
    "\n",
    "# Open as binary file\n",
    "with open(\"cheese.pck\", \"rb\") as f:\n",
    "    buffer = load(f)\n",
    "    print(type(buffer))\n",
    "    print(buffer)"
   ]
  },
  {
   "cell_type": "code",
   "execution_count": 21,
   "id": "10902c79",
   "metadata": {},
   "outputs": [
    {
     "name": "stdout",
     "output_type": "stream",
     "text": [
      "<class 'list'>\n",
      "[['Roquefort', 12, 15.23], ['White Stilton', 25, 19.02], ['Cheddar', 5, 0.67]]\n"
     ]
    }
   ],
   "source": [
    "from json import dump, load\n",
    "\n",
    "# dump and load, take in a file\n",
    "# dumps and loads, take in a string\n",
    "\n",
    "cheeseshop = [(\"Roquefort\", 12, 15.23), (\"White Stilton\", 25, 19.02), (\"Cheddar\", 5, 0.67)]\n",
    "\n",
    "with open(\"cheese.json\", \"w\") as f:\n",
    "    dump(cheeseshop, f)\n",
    "\n",
    "with open(\"cheese.json\", \"r\") as f:\n",
    "    buffer = load(f)\n",
    "    print(type(buffer))\n",
    "    print(buffer)"
   ]
  },
  {
   "cell_type": "code",
   "execution_count": 22,
   "id": "c02e684e",
   "metadata": {},
   "outputs": [
    {
     "name": "stdout",
     "output_type": "stream",
     "text": [
      "<html>\n",
      " <head>\n",
      "  <title>\n",
      "   The Dormouse's story\n",
      "  </title>\n",
      " </head>\n",
      " <body>\n",
      "  <p class=\"title\">\n",
      "   <b>\n",
      "    The Dormouse's story\n",
      "   </b>\n",
      "  </p>\n",
      "  <p class=\"story\">\n",
      "   Once upon a time there were three little sisters; and their names were\n",
      "   <a class=\"sister\" href=\"http://example.com/elsie\" id=\"link1\">\n",
      "    Elsie\n",
      "   </a>\n",
      "   ,\n",
      "   <a class=\"sister\" href=\"http://example.com/lacie\" id=\"link2\">\n",
      "    Lacie\n",
      "   </a>\n",
      "   and\n",
      "   <a class=\"sister\" href=\"http://example.com/tillie\" id=\"link3\">\n",
      "    Tillie\n",
      "   </a>\n",
      "   ;\n",
      "and they lived at the bottom of a well.\n",
      "  </p>\n",
      "  <p class=\"story\">\n",
      "   ...\n",
      "  </p>\n",
      " </body>\n",
      "</html>\n",
      "\n",
      "<title>The Dormouse's story</title>\n"
     ]
    }
   ],
   "source": [
    "# for HTML and XML parsing -> https://beautiful-soup-4.readthedocs.io/en/latest/\n",
    "from bs4 import BeautifulSoup\n",
    "\n",
    "html_doc = \"\"\"\n",
    "<html><head><title>The Dormouse's story</title></head>\n",
    "<body>\n",
    "<p class=\"title\"><b>The Dormouse's story</b></p>\n",
    "\n",
    "<p class=\"story\">Once upon a time there were three little sisters; and their names were\n",
    "<a href=\"http://example.com/elsie\" class=\"sister\" id=\"link1\">Elsie</a>,\n",
    "<a href=\"http://example.com/lacie\" class=\"sister\" id=\"link2\">Lacie</a> and\n",
    "<a href=\"http://example.com/tillie\" class=\"sister\" id=\"link3\">Tillie</a>;\n",
    "and they lived at the bottom of a well.</p>\n",
    "\n",
    "<p class=\"story\">...</p>\n",
    "\"\"\"\n",
    "\n",
    "soup = BeautifulSoup(html_doc, 'html.parser')\n",
    "print(soup.prettify())\n",
    "print(soup.title)"
   ]
  },
  {
   "cell_type": "markdown",
   "id": "90ed8e1f",
   "metadata": {},
   "source": [
    "## Useful Modules\n",
    "1. Datetime / Time\n",
    "2. Collections\n",
    "3. Urllib\n",
    "4. Glob"
   ]
  },
  {
   "cell_type": "code",
   "execution_count": 24,
   "id": "ae1b50bd",
   "metadata": {},
   "outputs": [
    {
     "name": "stdout",
     "output_type": "stream",
     "text": [
      "2025-02-27 21:15:46.006377\n"
     ]
    }
   ],
   "source": [
    "from datetime import datetime\n",
    "\n",
    "print(datetime.now())"
   ]
  },
  {
   "cell_type": "code",
   "execution_count": 25,
   "id": "2a551460",
   "metadata": {},
   "outputs": [
    {
     "name": "stdout",
     "output_type": "stream",
     "text": [
      "Counter({'apple': 3, 'pear': 1, 'chicken nugget': 1})\n",
      "[('apple', 3), ('pear', 1), ('chicken nugget', 1)]\n",
      "deque([4, 3, 4, 1, 2, 3])\n"
     ]
    }
   ],
   "source": [
    "from collections import Counter, deque\n",
    "\n",
    "# Counter is a dictionary that counts \n",
    "data = ['apple', 'pear', 'apple', 'apple', 'chicken nugget']\n",
    "c = Counter(data)\n",
    "print(c)\n",
    "print(c.most_common())\n",
    "\n",
    "# Double Ended Queue\n",
    "dq = deque([1,2,3])\n",
    "dq.appendleft(4)\n",
    "dq.extendleft([3, 4])\n",
    "print(dq)"
   ]
  },
  {
   "cell_type": "code",
   "execution_count": 26,
   "id": "20ccf442",
   "metadata": {},
   "outputs": [
    {
     "name": "stdout",
     "output_type": "stream",
     "text": [
      "b'\\x1f\\x8b\\x08\\x00\\x00\\x00\\x00\\x00\\x00\\x03\\xed}}w\\xdb6\\xb2\\xf7\\xff9g\\xbf\\x03\\xaa\\x9c\\x1b;\\xdbP\\xb2\\xe4w\\xc7V\\xd7I\\x9c\\xd4\\xdd\\xbc\\xb8u\\xd2\\xdc{{{r(\\x8a\\x92hK$#\\x92\\xb6\\xd5\\xdd\\xfd\\xee\\xcfo\\x06\\x00\\tR$%\\xd9n\\xda>\\'\\xddm-Q 0\\x18\\xcc;\\x06\\x83\\xc3o\\xfa\\x81\\x13\\xcfBW\\x8c\\xe2\\xc9\\xb8\\xfb\\xe0\\xf0\\x1b\\xcb\\xfa\\xc5\\x1b\\x88q,NO\\xc4\\xee\\xaf]!\\xc4!\\xfd$\\x9c\\xb1\\x1dEG\\r?\\xb0.\"\\xe1\\xb9;hby\\xee\\xae\\xfc\\xb3\\'\\xff\\xec7\\xb8\\xfd7\\xbf\\xb8~\\xdf\\x1b\\xfcjYY\\x87ioU\\x1d\\x96\\xf5\\x84\\xb6\\xf4OU\\x87{\\x0c\\x1e5(\\x830\\x07\\x93l\\xa7\\xff[\\xda\\xe1\\x90\\xa7\\x8c>\\t\\x07\\xdd\\xf9.\\x1bbl\\xfb\\xc3\\xa3\\x86\\xeb7D\\xdf\\x9b\\x1e5\\xc6\\xf1\\x94\\xe6K\\xcds\\x1d>8\\x1c\\xb9v\\xbf\\xfb@\\x82nY\\xe2U\\x10\\x0c\\xc7\\xae\\x88\\xed\\xa1X\\x1f\\xe2\\xbf\\xcd\\x8b\\xe8\\xb1 \\xe4p\\x8b\\xc8\\x99za,\\xech\\xe6;\"\\x9a:G\\x8dQ\\x1c\\x87\\xd1A\\xabu}}\\xdd\\x1c\\xf2\\xbbxib\\xfb\\xf6\\xd0\\x9d6\\x9d`\\xd2\\xa2NZ\\x17\\xd1w^\\xff\\xe8\\x95\\xf5\\xfe\\xe5\\xe6\\xf6\\xff\\xbc\\xdc\\x7f\\xfe\\xf3\\xf7\\x8d\\xeeaK\\xf6\\x96\\xebZ~\\x11\\xe2\\xda\\xf3\\xfb\\xc1u\\xb3o\\xc7\\xf6k{\\xe6N\\xc5\\xd1\\xfc\\xa3\\x7f\\xff[\\xfc\\xf2\\xebS\\x06L\\x88A\\xe2;\\xb1\\x17\\xf8\\x82\\xc6[\\x7f\\xfc\\xaf\\xf4\\xcdf\\x98D\\xa3u{:L&\\xae\\x1fG\\x8f\\x9f\\xfeG\\xbd\\xc1\\r\\xd7.\\xa2\\xb5\\'\\xc2w\\xaf\\xc5\\x0b;v\\xd7\\x1f?\\xd6\\xfd\\xc9_\\x9d\\xc0\\x1fxC\\xb4X3a_S\\xad\\n'\n",
      "b'3\\x00n\\xc5\\xd9\\xd8N\"\\xaf7v\\x9b^ \\x80\\x85\\xf1,\\xf6\\x9ch\\x0e\\x81}w\\x809\\x11\\x8cV?\\x98\\xd8\\x9e\\x7f\\xd4\\x08g\\xf1(\\xf0\\x9b\\xc1t\\xd8\\xc8c64\\xba\\x04\"\\x15\\xd6\\xb0.&\\n'\n",
      "b'\\xe5\\xf2L\\x80|\\xe1\\x8c\\xeci\\xe4\\xc6G\\x8d$\\x1eX{\\r\\x85^\\xfe\\x89\\x16\\xcbr?\\'\\xde\\xd5Q\\xe3\\xbf\\xad\\x0f\\xc7\\xd6\\xf3`\\x12\\xda1\\xc1\\xdb\\x10\\x98k\\x0c\\x0c\\x1d5NO\\x8e\\xdc\\xfe\\xd0\\xc5\\x9b\\xb2\\xd7\\xb1\\xe7_\\x8a\\xa9;\\x06\\x8cS\\xc0\\x1d;\\xa3\\x86\\x18\\xe1\\xd3Q\\xa3\\xd5\\xb2/\\xec\\x1b\\xb5\\xeev\\xe8E\\xbc\\xe2\\xf4\\xac5\\xf6zQ\\xeb\\xe2s\\xe2Ng\\xadvs\\xaf\\xd9Q_\\x9a\\x13\\xcfg\\xd8\\xef\\xa7\\xef\\xc4C\\xef\\xedN\\xb3\\xad\\xba\\xb7\\x12/\\x1b\\xc1@\\x8aoO\\xdc\\xa3\\x86\\x1d\\x86c\\xcf\\xc1\\x84\\x03\\xdf\\xa2\\'\\xc6\\xa4\\xcf2\\xf4\\x9b\\x18\\x93\\xefM\"\\xf3\\xcd8\\x08\\xc6\\xb1\\x17\\x1a/\\xbf\\x1f\\xb9\"\\x18\\x0c<\\xc7\\xb3\\xc7b\\x14L\\xe8\\x9b\\x88\\xf1P\\xf6*\\xce\\xa6\\xc1pjO0\\xf5\\xa1x\\r\\xc6L\\xc0\\x1d\\xb9\\x85\\xc9\\xc0s\\xadI\\xd0\\xf3\\xc6\\xaeu\\xed\\xf6,\\x8cj\\xc5^\\x9c[\\x9dZ@\\t\\xcc\\xb9\\x1e\\x1c;\\xb4\\xf3+<s\\xd3\\x05`\\xba\\xa8\\x19>\\x8a\\xed8\\x89\\xac\\x9e=\\xb5\\xa2x\\x96\\x83\\xa47\\xb6\\x9d\\xcb\\x94J\\x8c\\x8e\\xae<\\xf7:\\x0c\\xa6\\xb1\\x81\\xa1k\\xaf\\x1f\\x8f\\x8e\\xfa\\xee\\x95\\xe7`j\\xf4\\xe5\\x89\\xf0|/\\x06\\xc2\\xac\\xc8\\xb1\\xc7\\xeeQ\\xbb\\xb9Q\\x82\\x92\\xefm\\xbf?r\\xc7\\xfd\\x97S\\x0frz<3\\x91>M\\xca\\x908\\x08\\xa6\\x13;\\xb6\\xfan\\xec\\xb2@0\\xde\\x88\\xdd\\xb1\\x1b\\x82\\xc9\\xdc#?\\xa8\\xe4\\x0bg\\xec\\xdaS\\xd22\\xc6\\x8b\\xe8\\xa5\\x8a\\x8d\\xbc\\t\\xd6\\x92(\\x02\\x182\\xde\\x18\\xd8\\xe3(\\xe3 Sl*\\xe9#\\xa5VN\\x84N\\xdc\\xbeg7\\xddx\\x04\\x12\\x1d\\xdb\\xfd\\x08\"\\xa4\\xc5\\xcfZ\\xce\\x18\\xb3\\x8f[W\\xed\\xe6Vs\\xa3e\\xb4P\\xcc\\x94\\xeb\\xd3\\x03\\x1b\\x0f\\xa7^<;jD#\\xbb\\xb3\\xbdc}\\xd8\\x1c\\xfd\\xf3\\x85\\xd7O\\xfa\\xa7\\xf6\\xcd\\xb3\\x17\\'\\xbf]\\xbf\\xfa\\xe18\\xfcaxv2\\xe8L>^\\xee8\\x837\\x1f\\x87\\xa3\\xe9\\xb1\\xbd\\xe3m\\x1c\\t\\xbc\\xb3\\xb9\\xb7e}p&\\xd1\\xf3\\xcf\\xce\\xdb\\x9f\\xce_\\x7fl\\xf5\\x7f\\xde|\\x1d\\xb4\\x83\\xe7^\\xa7\\xf5\\xb3\\x9dL\\xff\\xbb\\xe7\\xf5v\\xc2\\xad\\xefg\\x1fN\\xde\\xb9\\xa7vk\\xeb]\\x18M\\xfd\\xc4\\x99&\\xc3cw\\xf0\\xdb\\xcf\\xff\\xfb\\xc3\\xe0\\x94\\xfa\\xd9nw\\xac\\xcf[q\\xfb\\xf5\\xd6\\xcd\\xc9\\xc5\\xab\\x9f;?m\\x8d~\\xfb\\xfc\\xdc\\xdej\\x9f\\xed]L\\x87/?\\x9c\\xef\\xdd\\xbc\\xef\\xedM\\xfbo\\xaf\\xb6^\\xbe\\xba\\xba\\xde}\\x19\\xce\\xfa?_\\xb4./o\\x9e\\xfd\\xf0\\xfd;\\xcf\\x0en\\xbe\\xb7\\xf7\\x82\\xf1s\\xe7\\xa6}>\\xbe\\xdc\\xff\\xe7\\xb7\\x9b\\xd1\\xdb^\\xf4f+\\x19\\x1e\\x1d5rsv\\xa6A\\x14\\x05SoH\\x92\\xd4\\xf6\\x03\\x7f6\\t\\x92H\\xb6)W4R\\xc6\\xb6\\x88\\xbc=\\x87\\xc4*\\x0b\\xacI\\xd0w\\xa7\\xbe\\xf7\\xdb\\xb4T\\xbc\\xb2 T\\x92O\\xbd\\xc8<\\x11\\x8d\\\\7\\x86`\\xa6\\xcf\\xcd\\x8d={cw\\xaf\\xbfa\\xdb\\x1b\\x9d\\xa6\\x13E\\r):\\xb3\\x86\\rA\\xd4u\\xd4\\x88\\xdd\\x9b\\xb8\\xc5\\rx\\x91\\x01\\xf7x\\x8c\\xdf\\x88\\xdd\\x8f\\x1aP\\x10v2\\x06\\x07\\xb5LAY=\\xf6\\xe4ss\\x7f\\xaf\\xbf\\xb3\\xb1\\xdf\\xe9u\\xec\\xbe\\xbd\\xda\\xc0~\\x10\\x8bp\\n'\n",
      "b'\\xbay\"zS\\xdb\\x1b\\x8f\\xdd\\'\\xc2\\x9d\\xf4\\x80R\\xb7\\xffDD\\xa1\\xeb:`\\xd78\\x06\\xf7-\\t\\x0e,/@\\xd4\\x1bl8[\\x9dm\\xa7\\xdf\\xdb\\xdd\\\\\\r\"0\\x8cK\\xb6\\x8b\\x1aN)\"e\\xef\\xad\\x8fc\\x97\\xcd\\x9f\\xc7\\x8f\\xd6\\xbf9=y\\xc3\\xf2\\xf2\\xf1\\xaf\\xcb!\\xea\\xbe!#>\\x96z\\xc6\\xb4$\\xe9\\xe9a\\xa67\\xcd\\xc5_Esf\\xda\\r\\xcad\\xe2\\x82\\xc4&A\\x10\\x8f|7\\xd2\\xba\\x95\\xf4\\x1d\\xd1\\x90\\xd2\\xd5E\\xa5\\xeaA\\xa9kzcI\\xd5\\xba\\xb1\\xe4\\xb3<)\\rl\\x08fX\\x1f\\xf8\\xcf\\xbcf\\x96J%\\x0e\\x12g\\xc4/[0\\x03\\xa0\\xe7\\xc3\\x00\\xe4\\x01[\\xc5\\xfb\\xcd\\x85\\xad\\xdd\\xde\\xda\\xba\\xc1\\xbf\\xa9e\\xa0\\xf8c\\xee]\\xd5\\xce\\xec\\xa3\\x19\\xfa\\xc3\\xdb\\x8e\\xda\\xc6\\xa8\\xed%F\\x95\\xed\\xeei\\xd4\\xdd\\xce\\xcdng\\xe1L\\xb9\\xd5]G\\xcc/\\xd3\\x1c6\\x8d\\x95X\\x0e\\x8b\\x0b\\xa1\\x9e\\xef\\x91ij\\xce\\x94\\xca\\x9bD\\xef\\xc1\\x81\\xa7D_\\x86\\n'\n",
      "b'\\xd4\\xb2\\x15\\x86\\xc14\\x90\\x84\\xa3\\x16_\\x82J\\xbe\\x88\\xb8\\x1ey`f\\xe8\\n'\n"
     ]
    }
   ],
   "source": [
    "# A solid reason on why everyone is using requests\n",
    "from urllib.request import urlopen\n",
    "from urllib.error import HTTPError, URLError\n",
    "from sys import exit\n",
    "\n",
    "try:\n",
    "    u = urlopen('http://www.python.org')\n",
    "except HTTPError as e:\n",
    "    print(f'HTTP Error: {e}')\n",
    "    exit()\n",
    "except URLError as e:\n",
    "    print(f'URL Error: {e}')\n",
    "    exit()\n",
    "    \n",
    "for i in range(5):\n",
    "    text = u.readline()\n",
    "    print(text)\n",
    "\n",
    "u.close()"
   ]
  },
  {
   "cell_type": "code",
   "execution_count": 29,
   "id": "86354e69",
   "metadata": {},
   "outputs": [
    {
     "name": "stdout",
     "output_type": "stream",
     "text": [
      "<class 'generator'>\n",
      "movies.csv\n"
     ]
    }
   ],
   "source": [
    "# use iglob for an iterator instead of a list\n",
    "from glob import iglob\n",
    "\n",
    "data = iglob('*.csv')\n",
    "print(type(data))\n",
    "for name in data:\n",
    "    print(name)"
   ]
  }
 ],
 "metadata": {
  "kernelspec": {
   "display_name": "Python 3 (ipykernel)",
   "language": "python",
   "name": "python3"
  },
  "language_info": {
   "codemirror_mode": {
    "name": "ipython",
    "version": 3
   },
   "file_extension": ".py",
   "mimetype": "text/x-python",
   "name": "python",
   "nbconvert_exporter": "python",
   "pygments_lexer": "ipython3",
   "version": "3.13.2"
  }
 },
 "nbformat": 4,
 "nbformat_minor": 5
}
