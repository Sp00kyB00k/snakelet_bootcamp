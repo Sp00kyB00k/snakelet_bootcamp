{
 "cells": [
  {
   "cell_type": "markdown",
   "id": "8883f33b",
   "metadata": {},
   "source": [
    "# Session 2\n",
    "* Strings ( in depth )\n",
    "* Tuples\n",
    "* Lists\n",
    "* Dictionaries\n",
    "* Sets"
   ]
  },
  {
   "cell_type": "markdown",
   "id": "026b6f55",
   "metadata": {},
   "source": [
    "## Strings\n",
    "Textual data"
   ]
  },
  {
   "cell_type": "code",
   "execution_count": null,
   "id": "06a6c52f",
   "metadata": {},
   "outputs": [],
   "source": [
    "# Multiline strings\n",
    "\"this is a multiline string\\\n",
    "where a \\ indicates a newline\"\n",
    "\n",
    "\"\"\"this is a multiline string\n",
    "also called a docstring\"\"\""
   ]
  },
  {
   "cell_type": "code",
   "execution_count": null,
   "id": "9d9dce24",
   "metadata": {},
   "outputs": [],
   "source": [
    "# Escape sequences\n",
    "\"\\n\"\n",
    "\"\\t\"\n",
    "\"\\r\"\n",
    "\"\\b\"\n",
    "\"\\'\"\n",
    "\"\\\\\"\n",
    "\"\\f\""
   ]
  },
  {
   "cell_type": "code",
   "execution_count": null,
   "id": "03d55be7",
   "metadata": {},
   "outputs": [],
   "source": [
    "# string indices\n",
    "string = \"Python is for hacking\"\n",
    "for letter, number in enumerate(string):\n",
    "    print(number, \":\", letter )"
   ]
  },
  {
   "cell_type": "code",
   "execution_count": null,
   "id": "9e026f5e",
   "metadata": {},
   "outputs": [],
   "source": [
    "# slicing (start:stop:stride)\n",
    "print(string[14:])\n",
    "print(string[::-1])\n",
    "print(string[::2])"
   ]
  },
  {
   "cell_type": "code",
   "execution_count": null,
   "id": "f3aaa99a",
   "metadata": {},
   "outputs": [],
   "source": [
    "# strings are immutable!\n",
    "string[0] = \"p\""
   ]
  },
  {
   "cell_type": "code",
   "execution_count": null,
   "id": "41947721",
   "metadata": {},
   "outputs": [],
   "source": [
    "# String Methods\n",
    "string.format()  # Formatting strings, just like f-strings\n",
    "string.strip()   # strips all leading and trailing spaces and newlines\n",
    "string.upper()   # makes it all UPPERCASE\n",
    "string.lower()   # makes it all lowercase\n",
    "string.find()    # finding substring in string, returns lowest index or a -1\n",
    "string.replace() # replaces all occurences of a substring\n",
    "string.split()   # split's a string into a list based on some delimiter, space is standard\n",
    "\"\".join()        # joins a list into a string, the string in front is the delimiter"
   ]
  },
  {
   "cell_type": "markdown",
   "id": "6416e238",
   "metadata": {},
   "source": [
    "### Character encoding\n",
    "ASCII is a 7 bits code representing 128 different characters.\n",
    "UTF-8 is unicode encoding, 8 bits in total.\n"
   ]
  },
  {
   "cell_type": "raw",
   "id": "03de7fa5",
   "metadata": {},
   "source": [
    "# functions to find the decimal code\n",
    "ord('a') # Returns unicode code point\n",
    "chr(127) # Returns the unicode string for unicode code point"
   ]
  },
  {
   "cell_type": "markdown",
   "id": "7c5cfc97",
   "metadata": {},
   "source": [
    "## Tuples\n",
    "Immutable collection of data"
   ]
  },
  {
   "cell_type": "code",
   "execution_count": null,
   "id": "b4b6feab",
   "metadata": {},
   "outputs": [],
   "source": [
    "# Comma separated values\n",
    "fruits = ('Apple', 'Pear')\n",
    "print(type(fruits))\n",
    "fruits_2 = 'Apple', 'Pear'\n",
    "print(type(fruits_2))"
   ]
  },
  {
   "cell_type": "code",
   "execution_count": null,
   "id": "2e01eeff",
   "metadata": {},
   "outputs": [],
   "source": [
    "# How many items in a tuple?\n",
    "len(fruits)\n",
    "\n",
    "# Using a for loop and the membership operator 'in'\n",
    "for fruit in fruits:\n",
    "    print(fruit)"
   ]
  },
  {
   "cell_type": "code",
   "execution_count": null,
   "id": "7498186a",
   "metadata": {},
   "outputs": [],
   "source": [
    "# The butt ugly tuple singleton\n",
    "singleton = ('All by myself',)"
   ]
  },
  {
   "cell_type": "code",
   "execution_count": null,
   "id": "e802bab5",
   "metadata": {},
   "outputs": [],
   "source": [
    "# Indexing\n",
    "coordinates = (61.6333324, 8.2897002)\n",
    "print(coordinates[0])\n",
    "\n",
    "from collections import namedtuple\n",
    "Coordinate = namedtuple('Coordinate', ['x', 'y'])\n",
    "c = Coordinate(61.6333324, 8.2897002)\n",
    "# Creates a docstring for the namedtuple\n",
    "print(c.__doc__)\n",
    "# Fields are accessible by name and by index\n",
    "print(c.x, c.y)"
   ]
  },
  {
   "cell_type": "code",
   "execution_count": null,
   "id": "7c53c327",
   "metadata": {},
   "outputs": [],
   "source": [
    "# Tuple comparison\n",
    "# Operator works first on the first two elemetents, than the second one if they are equal etc.\n",
    "t1 = ( \"apple\", \"banana\" )\n",
    "t2 = ( \"apple\", \"banana\" )\n",
    "t3 = ( \"apple\", \"cherry\" )\n",
    "t4 = ( \"apple\", \"banana\", \"cherry\" )\n",
    "print ( t1 == t2 )\n",
    "print ( t1 < t3 )\n",
    "print ( t1 > t4 )\n",
    "print ( t3 > t4 )"
   ]
  },
  {
   "cell_type": "code",
   "execution_count": null,
   "id": "1d1fc155",
   "metadata": {},
   "outputs": [],
   "source": [
    "# Tuples are immutable\n",
    "t1[0] = 'orange'"
   ]
  },
  {
   "cell_type": "markdown",
   "id": "0939d738",
   "metadata": {},
   "source": [
    "## Lists\n",
    "Ordered mutable collection"
   ]
  },
  {
   "cell_type": "code",
   "execution_count": null,
   "id": "8bd71e02",
   "metadata": {},
   "outputs": [],
   "source": [
    "# Lists are *ordered*\n",
    "l = ['192.168.1.1', '192.168.1.2']\n",
    "for ip in l:\n",
    "    print(ip)\n",
    "if '192.168.2.1' not in l:\n",
    "    print('WTF')\n",
    "    \n",
    "l2 = [1,2,3,4,5]\n",
    "print(min(l2))\n",
    "print(max(l2))\n",
    "print(sum(l2))"
   ]
  },
  {
   "cell_type": "code",
   "execution_count": null,
   "id": "23462900",
   "metadata": {},
   "outputs": [],
   "source": [
    "# Lists are **mutable**\n",
    "l3 = ['John', 'Hashcat']\n",
    "l3[0] = 'John the Ripper'\n",
    "print(l3)"
   ]
  },
  {
   "cell_type": "code",
   "execution_count": null,
   "id": "94c5616f",
   "metadata": {},
   "outputs": [],
   "source": [
    "# Don't loop over a list and alter the amount of items...\n",
    "numlist = [1 ,2 ,0 ,3 ,4 ,0 ,0 ,5 ,6 ,7]\n",
    "for num in numlist:\n",
    "    if num == 0:\n",
    "        numlist.remove(0) # removes the first 0 from the list\n",
    "    else:\n",
    "        print(num, end =\" \")\n",
    "print(numlist)"
   ]
  },
  {
   "cell_type": "code",
   "execution_count": null,
   "id": "8e981c48",
   "metadata": {},
   "outputs": [],
   "source": [
    "# lists and operators\n",
    "fruitlist = [\"apple\", \"banana\"] + [\"cherry\", \"durian\"]\n",
    "print(fruitlist)\n",
    "numlist = 10 * [0]\n",
    "print(numlist)"
   ]
  },
  {
   "cell_type": "code",
   "execution_count": null,
   "id": "7ce4aedc",
   "metadata": {},
   "outputs": [],
   "source": [
    "# List methods (these CHANGE the list)\n",
    "list_of_numbers = [1, 1, 2, 3, 5, 8]\n",
    "list_of_numbers.append(13)\n",
    "list_of_numbers.extend([21, 34])\n",
    "list_of_numbers.insert(2, 'banana')\n",
    "list_of_numbers.remove('banana')\n",
    "list_of_numbers.pop(0)\n",
    "del list_of_numbers\n",
    "fruitlist = [\"apple\", \"banana\", \"cherry\", \"banana\", \"durian\"]\n",
    "print(fruitlist.index(\"banana\"))\n",
    "print(fruitlist.count(\"banana\"))\n",
    "# sort() works inplace, so it works on the already existing list\n",
    "# sorted() creates a copy of the list that has been sorted\n",
    "fruitlist.sort()\n",
    "print(fruitlist)\n",
    "fruitlist.reverse()\n",
    "print(fruitlist)"
   ]
  },
  {
   "cell_type": "code",
   "execution_count": null,
   "id": "d6fcc561",
   "metadata": {},
   "outputs": [],
   "source": [
    "fruitlist = [\"apple\"]\n",
    "newfruitlist = fruitlist\n",
    "verynewfruitlist = fruitlist[:]\n",
    "\n",
    "# Comparing identities\n",
    "print(fruitlist is newfruitlist)\n",
    "print(fruitlist is verynewfruitlist)\n",
    "print(newfruitlist is verynewfruitlist)\n",
    "\n",
    "# Comparing the contents\n",
    "print(fruitlist == newfruitlist)\n",
    "print(fruitlist == verynewfruitlist)\n",
    "print(newfruitlist == verynewfruitlist)"
   ]
  },
  {
   "cell_type": "code",
   "execution_count": null,
   "id": "ae1216b7",
   "metadata": {},
   "outputs": [],
   "source": [
    "# Shallow copy creates a copy of 'one layer' deep, the rest is basically an alias\n",
    "numlist = [ 1, 2, [3, 4] ]\n",
    "copylist = numlist[:]\n",
    "numlist [0] = 5\n",
    "numlist [2][0] = 6\n",
    "print(numlist)\n",
    "print(copylist)\n",
    "\n",
    "# Deep copy, copies the whole darn tootin' thing\n",
    "from copy import deepcopy\n",
    "numlist = [ 1, 2, [3, 4] ]\n",
    "copylist = deepcopy(numlist)\n",
    "numlist[0] = 5\n",
    "numlist[2][0] = 6\n",
    "print(numlist)\n",
    "print(copylist)"
   ]
  },
  {
   "cell_type": "code",
   "execution_count": null,
   "id": "88aca43f",
   "metadata": {},
   "outputs": [],
   "source": [
    "# Nested lists\n",
    "board = [['-', '-', '-'], ['-', '-', '-'], ['-', '-', '-']]\n",
    "board[0][0] = 'x'\n",
    "for row in range(3):\n",
    "    print(row + 1, end=' ')\n",
    "    for col in range(3):\n",
    "        print(board[row][col], end=' ')\n",
    "    print()"
   ]
  },
  {
   "cell_type": "code",
   "execution_count": null,
   "id": "473868a0",
   "metadata": {},
   "outputs": [],
   "source": [
    "# list casting\n",
    "fruity_tuple = ('apple', 'pear', 'lychee')\n",
    "l = list(fruity_tuple)\n",
    "print(type(l), '\\n', l)"
   ]
  },
  {
   "cell_type": "code",
   "execution_count": null,
   "id": "d130b4d2",
   "metadata": {},
   "outputs": [],
   "source": [
    "# List comprehensions\n",
    "squares = []\n",
    "for i in range(1, 26):\n",
    "    squares.append(i*i)\n",
    "squares_2 = [x*x for x in range(1, 26)]\n",
    "print(squares)\n",
    "print(squares_2)"
   ]
  },
  {
   "cell_type": "markdown",
   "id": "085e3a2f",
   "metadata": {},
   "source": [
    "## Dictionaries\n",
    "slightly ordered collection of Key Value Pairs based on insertion in Python 3.7.\n",
    "Not how it works under the hood, but there is some metadata about the order of the keys.\n",
    "But a dictionary is 'unordered'."
   ]
  },
  {
   "cell_type": "code",
   "execution_count": null,
   "id": "0810850f",
   "metadata": {},
   "outputs": [],
   "source": [
    "# Key Value pairs\n",
    "# Key can be of any immutable type\n",
    "fruitbasket = {'apple': 1, 'pear': 2, 'cherry': 69}\n",
    "fruitbasket_2 = {'apple': 7, 'pear': 4, 'cherry': 3}\n",
    "\n",
    "# Looping over can be done with the membership operator\n",
    "for key in fruitbasket:\n",
    "    print(key)\n",
    "    print(fruitbasket[key])\n",
    "\n",
    "# merging dictionaries can be done with a pipe in python > 3.9\n",
    "print(fruitbasket | fruitbasket_2)"
   ]
  },
  {
   "cell_type": "code",
   "execution_count": null,
   "id": "48b37e6c",
   "metadata": {},
   "outputs": [],
   "source": [
    "# Dictionary Methods\n",
    "fruitbasket = {\"apple\":3, \"banana\":5, \"cherry\":50 }\n",
    "fruitbasketalias = fruitbasket\n",
    "fruitbasketcopy = fruitbasket.copy()\n",
    "print(id(fruitbasket))\n",
    "print(id(fruitbasketalias))\n",
    "print(id(fruitbasketcopy)) # shallow copy\n",
    "\n",
    "# Creates iterators, use with a loop\n",
    "print(fruitbasket.keys())\n",
    "print(fruitbasket.values())\n",
    "print(fruitbasket.items())\n",
    "\n",
    "# get instead of using the [key] for indexing\n",
    "print(fruitbasket.get('apple')) # default is None\n",
    "print(fruitbasket.get('lychee', 'Empty'))"
   ]
  },
  {
   "cell_type": "code",
   "execution_count": null,
   "id": "b4cca13e",
   "metadata": {},
   "outputs": [],
   "source": [
    "# Speedtest for lookup with a dictionary and a list\n",
    "\n",
    "from timeit import timeit\n",
    "\n",
    "def numlist():\n",
    "    numlist = []\n",
    "    for i in range( 10000 ):\n",
    "        numlist.append(i)\n",
    "    count = 0\n",
    "    for i in range( 10000 , 20000 ):\n",
    "        if i in numlist :\n",
    "            count += 1\n",
    "    return count\n",
    "\n",
    "def numdict():\n",
    "    numdict = {}\n",
    "    for i in range( 10000 ):\n",
    "        numdict[i] = 1\n",
    "    count = 0\n",
    "    for i in range( 10000 , 20000 ):\n",
    "        if i in numdict :\n",
    "            count += 1\n",
    "    return count\n",
    "\n",
    "print(timeit(numlist, number=1))\n",
    "print(timeit(numdict, number=1))"
   ]
  },
  {
   "cell_type": "markdown",
   "id": "749f1618",
   "metadata": {},
   "source": [
    "## Sets\n",
    "Unordered collection of elements.\n",
    "Even knowing that they are implemented as dicts with keys only, they are unordered."
   ]
  },
  {
   "cell_type": "code",
   "execution_count": null,
   "id": "8d921890",
   "metadata": {},
   "outputs": [],
   "source": [
    "# Cannot be accessed using an index or a key\n",
    "fruitset = {\"apple\", \"banana\", \"cherry\"}\n",
    "print(fruitset)\n",
    "print(fruitset[0]) # object not subscriptable"
   ]
  },
  {
   "cell_type": "code",
   "execution_count": null,
   "id": "7b32bf3e",
   "metadata": {},
   "outputs": [],
   "source": [
    "# iterating over sets\n",
    "fruitset = {\"apple\", \"banana\", \"cherry\"}\n",
    "print(next(fruitset))\n",
    "for item in fruitset:\n",
    "    print(fruitset)"
   ]
  },
  {
   "cell_type": "code",
   "execution_count": null,
   "id": "54ff3a22",
   "metadata": {},
   "outputs": [],
   "source": [
    "# sets killer feature\n",
    "unique_letters = set(\"Hello EHGN, welcome to the snakelet bootcamp\")\n",
    "print(unique_letters)"
   ]
  },
  {
   "cell_type": "code",
   "execution_count": null,
   "id": "dacf1bc2",
   "metadata": {},
   "outputs": [],
   "source": [
    "# Set Methods\n",
    "fruitset = {\"apple\", \"banana\", \"cherry\", \"durian\", \"mango\"}\n",
    "print(fruitset)\n",
    "fruitset.add(\"apple\")\n",
    "fruitset.add(\"elderberry\")\n",
    "print(fruitset)\n",
    "fruitset.update([\"apple\", \"apple\", \"apple\", \"strawberry\", \"strawberry\", \"apple\", \"mango\"] )\n",
    "print(fruitset)\n",
    "fruitset2 = fruitset.copy()\n",
    "fruitset.pop()            # removes one item, but it can be any item because sets are unordered\n",
    "fruitset.remove('apple')  # will throw error if item is not in set\n",
    "fruitset.discard('apple') # discard doesn't care about errors\n",
    "fruitset.clear()          # clears all the items\n",
    "\n",
    "# specialty of sets\n",
    "# Union contains items of both of the sets\n",
    "fruit1 = {\"apple\", \"banana\", \"cherry\"}\n",
    "fruit2 = {\"banana\", \"cherry\", \"durian\"}\n",
    "fruitunion = fruit1.union(fruit2)\n",
    "fruitunion = fruit1 | fruit2\n",
    "print(fruitunion)\n",
    "\n",
    "# Intersection contains only items that both the sets have\n",
    "fruitintersection = fruit1.intersection(fruit2)\n",
    "fruitintersection = fruit1 & fruit2\n",
    "print(fruitintersection)\n",
    "\n",
    "# difference contains only the items that are not in the second set\n",
    "fruitdifference = fruit1.difference(fruit2)\n",
    "fruitdifference = fruit1 - fruit2\n",
    "print(fruitdifference)\n",
    "\n",
    "# isdisjoint, issubset, issuperset\n",
    "print(fruit1.isdisjoint(fruit2))  # True if sets share no elements\n",
    "print(fruit1.issubset(fruit2))    # True if elements from first set are in the argument set\n",
    "print(fruit1.issuperset(fruit2))  # True if elements from argument set are in the first set"
   ]
  },
  {
   "cell_type": "code",
   "execution_count": null,
   "id": "128880d5",
   "metadata": {},
   "outputs": [],
   "source": [
    "# Frozenset, the immutable set\n",
    "fruit1 = frozenset([\"apple\", \"banana\", \"cherry\"])\n",
    "fruit2 = frozenset([\"banana\", \"cherry\", \"durian\"])\n",
    "print(fruit1.union(fruit2))"
   ]
  }
 ],
 "metadata": {
  "kernelspec": {
   "display_name": "Python 3 (ipykernel)",
   "language": "python",
   "name": "python3"
  },
  "language_info": {
   "codemirror_mode": {
    "name": "ipython",
    "version": 3
   },
   "file_extension": ".py",
   "mimetype": "text/x-python",
   "name": "python",
   "nbconvert_exporter": "python",
   "pygments_lexer": "ipython3",
   "version": "3.12.9"
  }
 },
 "nbformat": 4,
 "nbformat_minor": 5
}
