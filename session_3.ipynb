{
 "cells": [
  {
   "cell_type": "markdown",
   "id": "02dea97d",
   "metadata": {},
   "source": [
    "# Session 3\n",
    "* Operating System\n",
    "* Text Files\n",
    "* Exceptions\n",
    "* Binary Files\n",
    "* Bitwise Operators"
   ]
  },
  {
   "cell_type": "markdown",
   "id": "0af769ed",
   "metadata": {},
   "source": [
    "## Operating System ( The good stuff )"
   ]
  },
  {
   "cell_type": "code",
   "execution_count": null,
   "id": "d0b7e620",
   "metadata": {},
   "outputs": [],
   "source": [
    "# Operating System -> os module\n",
    "import os\n",
    "print(os.path.exists('session_2.ipynb'))\n",
    "print(os.path.isfile('session_2.ipynb'))\n",
    "print(os.path.isdir('session_2.ipynb'))\n",
    "print(os.path.getsize('session_2.ipynb'))\n",
    "print(os.getcwd())\n",
    "print(os.listdir())\n",
    "for name in os.listdir():\n",
    "    print(os.path.join(os.getcwd(), name))\n",
    "    \n",
    "print(os.path.basename('/home/jd/Desktop/programming/python/Snakelet Bootcamp/session_2.ipynb'))\n",
    "print(os.path.dirname('/home/jd/Desktop/programming/python/Snakelet Bootcamp/session_2.ipynb'))\n",
    "print('Bytes', ':', os.path.getsize('/home/jd/Desktop/programming/python/Snakelet Bootcamp/session_2.ipynb'))"
   ]
  },
  {
   "cell_type": "code",
   "execution_count": null,
   "id": "4c5022d6",
   "metadata": {},
   "outputs": [],
   "source": [
    "# System -> sys module\n",
    "import sys\n",
    "print(sys.getfilesystemencoding())"
   ]
  },
  {
   "cell_type": "markdown",
   "id": "ec5a5354",
   "metadata": {},
   "source": [
    "## Text Files\n",
    "There are `flat text` files, such as txt, python, html etc.\n",
    "In a later session we will also deal with `binary` files.\n",
    "When opening a file, one gains access to a `file handle`, which can be seen as the access point to a file. This can be seen as a pointer in a particular place in the file.\n",
    "Because a file handle cannot be openend by many processes, one should close the file once done."
   ]
  },
  {
   "cell_type": "code",
   "execution_count": null,
   "id": "93efae87",
   "metadata": {},
   "outputs": [],
   "source": [
    "# Both methods work\n",
    "file = open('test.txt', 'r')\n",
    "open('test2.txt', 'r') as file2 \n",
    "\n",
    "# read() moves the pointer to the end of the file, so it works only once.\n",
    "file.read() #_EOF_\n",
    "\n",
    "# closing the files because we are good programmers\n",
    "file.close()\n",
    "file2.close()"
   ]
  },
  {
   "cell_type": "code",
   "execution_count": null,
   "id": "44b1ffae",
   "metadata": {},
   "outputs": [],
   "source": [
    "# Context managers, a better way of doing things\n",
    "with open('test.txt', 'w') as f:\n",
    "    f.writelines(str(i)+'\\n' for i in [1, 1, 2, 3, 5, 8, 13])\n"
   ]
  },
  {
   "cell_type": "code",
   "execution_count": null,
   "id": "967433fd",
   "metadata": {},
   "outputs": [],
   "source": [
    "# read, readline, readlines\n",
    "# readline() reads a single line\n",
    "f = open('test.txt', 'r') \n",
    "while True:\n",
    "    buffer = f.readline() # reads a single line\n",
    "    if buffer == '':\n",
    "        break\n",
    "    print(buffer)\n",
    "f.close()\n",
    "\n",
    "# readlines() reads all lines and put the strings inside a list\n",
    "with open('test.txt', 'r') as f:\n",
    "    for line in f.readlines():\n",
    "        print(line)"
   ]
  },
  {
   "cell_type": "code",
   "execution_count": null,
   "id": "21a7e296",
   "metadata": {},
   "outputs": [],
   "source": [
    "with open('test.txt', 'a') as f:\n",
    "    f.write(str(21)+'\\n')\n",
    "    \n",
    "with open('test.txt', 'r') as f:\n",
    "    for line in f.readlines():\n",
    "        if '21' in line:\n",
    "            print('found it')"
   ]
  },
  {
   "cell_type": "markdown",
   "id": "ffbada63",
   "metadata": {},
   "source": [
    "## Exceptions"
   ]
  },
  {
   "cell_type": "code",
   "execution_count": null,
   "id": "f9f60760",
   "metadata": {},
   "outputs": [],
   "source": [
    "# What will happen\n",
    "from random import randint\n",
    "number = int(input(\"Give me a number to divide by: \"))\n",
    "print(randint(1, 100) / number)"
   ]
  },
  {
   "cell_type": "code",
   "execution_count": null,
   "id": "1bf4ed43",
   "metadata": {},
   "outputs": [],
   "source": [
    "# Catch the error\n",
    "# Catching specific errors\n",
    "# Catching the rest\n",
    "# And do something if no errors happen with the Else clause\n",
    "# https://docs.python.org/3/library/exceptions.html\n",
    "from random import randint\n",
    "try:\n",
    "    number = int(input(\"Give me a number to divide by: \"))\n",
    "    print(randint(1, 100) / number)\n",
    "except ZeroDivisionError:\n",
    "    print('Please don\\'t divide by Zero')\n",
    "except ValueError:\n",
    "    print('Please enter a number')\n",
    "except:\n",
    "    print('What did you do?!?!')\n",
    "else:\n",
    "    print('Thank you for the number, it was jolly good fun')"
   ]
  },
  {
   "cell_type": "code",
   "execution_count": null,
   "id": "cc293f32",
   "metadata": {},
   "outputs": [],
   "source": [
    "# Finally is executed regardless if shit goes wrong, a nice hail Mary.\n",
    "try:\n",
    "    f = open('test.txt')\n",
    "    print('Opened file')\n",
    "    print(f.read())\n",
    "finally:\n",
    "    f.close()\n",
    "    print('File closed')"
   ]
  },
  {
   "cell_type": "code",
   "execution_count": null,
   "id": "5238b880",
   "metadata": {},
   "outputs": [],
   "source": [
    "try:\n",
    "    print(int('This is a string'))\n",
    "except ValueError as e:\n",
    "    print(e.args)"
   ]
  },
  {
   "cell_type": "code",
   "execution_count": null,
   "id": "e10127fd",
   "metadata": {},
   "outputs": [],
   "source": [
    "# File Errors\n",
    "# errno.ENOENT  -> No such file or Directory\n",
    "# errno.EACCESS -> Permission denied\n",
    "# errno.ENOSPC  -> No more space left on device\n",
    "import errno\n",
    "try:\n",
    "    f = open('Not A File')\n",
    "    f.close()\n",
    "except IOError as e:\n",
    "    if e.args[0] ==  errno.ENOENT:\n",
    "        print('File not found')\n",
    "    else:\n",
    "        print(e.args[0], e.args[1])"
   ]
  },
  {
   "cell_type": "code",
   "execution_count": null,
   "id": "0b46204b",
   "metadata": {},
   "outputs": [],
   "source": [
    "# raise the flag\n",
    "def get_string_max_10_chars(string: str):\n",
    "    if len(string) > 10:\n",
    "        raise ValueError(\"Length exceeds 10\", len(string))\n",
    "    return string\n",
    "print(get_string_max_10_chars(\"Haberdashery\"))\n"
   ]
  },
  {
   "cell_type": "markdown",
   "id": "f466372a",
   "metadata": {},
   "source": [
    "# Binary Files\n",
    "Bit 0 or 1\n",
    "Byte is 8 bits -> 0 to 255"
   ]
  },
  {
   "cell_type": "code",
   "execution_count": null,
   "id": "0adfb221",
   "metadata": {},
   "outputs": [],
   "source": [
    "# reading Binary Files\n",
    "with open(\"/usr/bin/ls\", 'rb') as f:\n",
    "    print(f.readline())"
   ]
  },
  {
   "cell_type": "code",
   "execution_count": null,
   "id": "3e68b6d6",
   "metadata": {},
   "outputs": [],
   "source": [
    "# Byte strings\n",
    "print('Hello World')                   # A string\n",
    "print(b'Hello World')                  # A bytestring\n",
    "print(bytes(74))                       # Wrong\n",
    "print(bytes([74]))                     # Always use a list\n",
    "print(str(b'Hello World'))             # Doesn't work\n",
    "print(b'Hello World'.decode('utf-8'))  # You need the .encode function for that\n",
    "print('Hello World'.encode('utf-8'))   # And to cast strings to bytestrings, you can encode"
   ]
  },
  {
   "cell_type": "code",
   "execution_count": null,
   "id": "22b44d05",
   "metadata": {},
   "outputs": [],
   "source": [
    "# Reading by moving the read cursor in the file\n",
    "with open('/usr/bin/ls', 'rb') as f:\n",
    "    for i in range(10):\n",
    "        buffer = f.read(10) # reading 10 bytes per iteration\n",
    "        print(buffer)"
   ]
  },
  {
   "cell_type": "code",
   "execution_count": null,
   "id": "5c7aaa07",
   "metadata": {},
   "outputs": [],
   "source": [
    "import os\n",
    "\n",
    "with open('test.tmp', 'wb') as f:\n",
    "    f.write(b'And now for something completely different ...\\ x0A\\x00\\x00\\x00\\x00\\xD4\\xE8\\xE5\\xA0\\xD3\\xF0\\xE1\\xEE\\xE9\\xF3\\xE8\\xA0\\xC9\\xEE\\xF1\\xF5\\xE9\\xF3\\xE9\\xF4\\xE9\\xEF\\xEE\\x00\\x00\\x00')\n",
    "\n",
    "print(os.path.getsize('test.tmp'))"
   ]
  },
  {
   "cell_type": "code",
   "execution_count": null,
   "id": "d15505ef",
   "metadata": {},
   "outputs": [],
   "source": [
    "# Moving within a file\n",
    "# Seek expects two inputs, relative byte position and the position relative to which you want to move\n",
    "# The last one can be 0 (START), 1 (CURRENT) or 2 (END)\n",
    "# os.SEEK_SET, os.SEEK_CUR, os.SEEK_END constants for these values\n",
    "with open('/usr/bin/ls', 'rb') as f:\n",
    "    print('current position of the cursor is:', f.tell())\n",
    "    print(f.read(5).decode('utf-8')) # does only display what it can\n",
    "    f.seek(-50, 2)\n",
    "    print(f.read(50).decode('utf-8'))\n",
    "    print('current position now is:', f.tell())"
   ]
  },
  {
   "cell_type": "markdown",
   "id": "21747063",
   "metadata": {},
   "source": [
    "## Bitwise Operators\n",
    "How bits and bytes or organized  \n",
    "It is a base2 system -> meaning $(2^x)$  \n",
    "We are used to a base10 system -> $(10^x)$  \n",
    "A bit is either a 1 or a 0, ON or OFF  \n",
    "A byte for example can be 11010010 which in base10 is 210  \n",
    "Byte              1 1 0 1 0 0 1 0  \n",
    "number of the bit 7 6 5 4 3 2 1 0  \n",
    "where the position is the x in $(2^x)$  "
   ]
  },
  {
   "cell_type": "code",
   "execution_count": null,
   "id": "d9cae5d0",
   "metadata": {},
   "outputs": [],
   "source": [
    "# calculating all the bits that are on.\n",
    "print(2**7 + 2**6 + 2**4 + 2**1)"
   ]
  },
  {
   "cell_type": "markdown",
   "id": "62a91811",
   "metadata": {},
   "source": [
    "**The operators**  \n",
    "<< Shift Left  \n",
    "\\>> Shift Right  \n",
    "& Bitwise AND  \n",
    "| Bitwise OR  \n",
    "~ Bitwise NOT  \n",
    "^ Bitwise XOR  "
   ]
  },
  {
   "cell_type": "code",
   "execution_count": null,
   "id": "b6cc40c7",
   "metadata": {},
   "outputs": [],
   "source": [
    "print(12 << 1)  # Shifting Left by one is the same as doubling it\n",
    "print(12 >> 1)  # Shifting Right by one is the same is halving it\n",
    "print(12 & 6)   # Either both are 1 otherwise the bit will be a 0\n",
    "print(12 | 6)   # Either one or both are 1, otherwise 0 (Good for setting bits)\n",
    "print(~12)      # FLIP THAT SHIT, also two's complement encoding ( GOOGLE IT ) due to signed int\n",
    "print(12 ^ 6)   # 0 where bits are the same, 1 where bits differ (oehhh encryption?)"
   ]
  },
  {
   "cell_type": "code",
   "execution_count": null,
   "id": "c3a32954",
   "metadata": {},
   "outputs": [],
   "source": [
    "# Precedence first other operators, bitwise is the last evaluated\n",
    "print(1<<1 + 2<<1)     # sneakily this is 1<<(1+2)<<1 1*8*2\n",
    "print(1<<3<<1)\n",
    "print((1<<1) + (2<<1)) # this is 1*2 + 2*2"
   ]
  },
  {
   "cell_type": "markdown",
   "id": "134f1777",
   "metadata": {},
   "source": [
    "### WHY and WHEN do we use this\n",
    "You probably wont.  \n",
    "There are more suitable languages that work more with bit shifting.  \n",
    "Mostly in areas where performance matters such as Embedded Development and Cryptography.  \n",
    "But you can sort of do it in python.  \n",
    "Can be nice when working with lower level data in combination with the struct or ctypes modules.  "
   ]
  }
 ],
 "metadata": {
  "kernelspec": {
   "display_name": "Python 3 (ipykernel)",
   "language": "python",
   "name": "python3"
  },
  "language_info": {
   "codemirror_mode": {
    "name": "ipython",
    "version": 3
   },
   "file_extension": ".py",
   "mimetype": "text/x-python",
   "name": "python",
   "nbconvert_exporter": "python",
   "pygments_lexer": "ipython3",
   "version": "3.12.9"
  }
 },
 "nbformat": 4,
 "nbformat_minor": 5
}
