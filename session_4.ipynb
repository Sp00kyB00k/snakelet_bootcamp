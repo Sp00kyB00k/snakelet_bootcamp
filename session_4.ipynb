{
 "cells": [
  {
   "cell_type": "markdown",
   "id": "d57f32a5",
   "metadata": {},
   "source": [
    "# Session 4\n",
    "* Object Orientation\n",
    "* Operator Overloading\n",
    "* Inheritance\n",
    "* Iterators & Generators\n",
    "\n",
    "More material: https://realpython.com/inheritance-composition-python/"
   ]
  },
  {
   "cell_type": "markdown",
   "id": "bc0dfa0a",
   "metadata": {},
   "source": [
    "## Object Orientation"
   ]
  },
  {
   "cell_type": "markdown",
   "id": "5b09e359",
   "metadata": {},
   "source": [
    "A Class is itself **not** an entity  \n",
    "An instance of a class, such as hacker = Hacker(), is an Object  \n",
    "Classes have attributes, things they have  \n",
    "And methods, things they can do  \n",
    "  \n",
    "A Class describes what it has, the instantiated object does have the values for that particular case  \n",
    "A Class is a Data Type and an object is a value  "
   ]
  },
  {
   "cell_type": "markdown",
   "id": "75f7eb6a",
   "metadata": {},
   "source": [
    "A function is called as `function(variable)` \n",
    "while a method is called `variable.method()` such as 'string'.lower()  \n",
    "strings, integers and floats are classes too.  \n",
    "The methods are seldom called directly but indirectly.  \n",
    "Such as adding with $+$ is an indirect method call."
   ]
  },
  {
   "cell_type": "code",
   "execution_count": 1,
   "id": "317d356c",
   "metadata": {},
   "outputs": [
    {
     "name": "stdout",
     "output_type": "stream",
     "text": [
      "<class '__main__.Point'>\n"
     ]
    }
   ],
   "source": [
    "# First class example for a custom data type\n",
    "class Point:\n",
    "    pass\n",
    "\n",
    "p = Point()\n",
    "print(type(p))"
   ]
  },
  {
   "cell_type": "code",
   "execution_count": 2,
   "id": "0aeb4bf0",
   "metadata": {},
   "outputs": [
    {
     "name": "stdout",
     "output_type": "stream",
     "text": [
      "x: 0.0, y: 0.0\n"
     ]
    }
   ],
   "source": [
    "class Point:\n",
    "    \"\"\"\n",
    "    __init__ is kind of like the constructor\n",
    "    It 'fills' the class with attributes\n",
    "    __new__ is the constructor but you rarely need it\n",
    "    \"\"\"\n",
    "    def __init__(self):\n",
    "        # first param is always self in methods because you refer back to the object.\n",
    "        # this is a convention, it can be anything, but please use self\n",
    "        self.x = 0.0\n",
    "        self.y = 0.0\n",
    "        \n",
    "p = Point()\n",
    "print(f\"x: {p.x}, y: {p.y}\")"
   ]
  },
  {
   "cell_type": "code",
   "execution_count": 3,
   "id": "31cbea33",
   "metadata": {},
   "outputs": [
    {
     "name": "stdout",
     "output_type": "stream",
     "text": [
      "x: 2.0, y: 3.0\n",
      "x: 4.0, y: 2.5\n",
      "True\n",
      "<__main__.Point object at 0x7fc399337320>\n"
     ]
    }
   ],
   "source": [
    "class Point:\n",
    "    def __init__(self, x, y):\n",
    "        # first param is always self in methods because you refer back to the object.\n",
    "        # this is a convention, it can be anything, but please use self\n",
    "        self.x = x\n",
    "        self.y = y\n",
    "        \n",
    "p1 = Point(2.0, 3.0)\n",
    "print(f\"x: {p1.x}, y: {p1.y}\")\n",
    "\n",
    "p2 = Point(4.0, 2.5)\n",
    "print(f\"x: {p2.x}, y: {p2.y}\")\n",
    "\n",
    "print(isinstance(p1, Point))\n",
    "print(p)"
   ]
  },
  {
   "cell_type": "code",
   "execution_count": 6,
   "id": "8a98ad03",
   "metadata": {},
   "outputs": [
    {
     "name": "stdout",
     "output_type": "stream",
     "text": [
      "->2.5, 3.5\n"
     ]
    }
   ],
   "source": [
    "class Point:\n",
    "    def __init__(self, x, y):\n",
    "        # first param is always self in methods because you refer back to the object.\n",
    "        # this is a convention, it can be anything, but please use self\n",
    "        self.x = x\n",
    "        self.y = y\n",
    "        \n",
    "    def __repr__(self):\n",
    "        # When an object is displayed\n",
    "        # all information to recreate an object\n",
    "        return f\"{self.x}, {self.y}\"\n",
    "    \n",
    "    def __str__(self):\n",
    "        # When print() or format() is called\n",
    "        return f\"{self.x}, {self.y}\"\n",
    "\n",
    "\n",
    "p = Point(2.5, 3.5)\n",
    "print(p)"
   ]
  },
  {
   "cell_type": "code",
   "execution_count": 7,
   "id": "21060373",
   "metadata": {},
   "outputs": [
    {
     "name": "stdout",
     "output_type": "stream",
     "text": [
      "2.5, 10\n",
      "10.307764064044152\n",
      "10, 2.5\n"
     ]
    }
   ],
   "source": [
    "# Adding our own methods\n",
    "from math import sqrt\n",
    "\n",
    "class Point:\n",
    "    def __init__(self, x, y):\n",
    "        # first param is always self in methods because you refer back to the object.\n",
    "        # this is a convention, it can be anything, but please use self\n",
    "        self.x = x\n",
    "        self.y = y\n",
    "        \n",
    "    def __repr__(self):\n",
    "        # When an object is displayed\n",
    "        # all information to recreate an object\n",
    "        return f\"{self.x}, {self.y}\"\n",
    "    \n",
    "    def __str__(self):\n",
    "        # When print() or format() is called\n",
    "        return f\"{self.x}, {self.y}\"\n",
    "    \n",
    "    def distance_from_origin(self):\n",
    "        return sqrt(self.x * self.x + self.y * self.y)\n",
    "    \n",
    "    def translate(self, shift_x, shift_y):\n",
    "        self.x += shift_x\n",
    "        self.y += shift_y\n",
    "        \n",
    "    def pivot(self):\n",
    "        # Using Tuple Unpacking for the swap magic\n",
    "        self.x , self.y = self.y, self.x\n",
    "        \n",
    "p = Point(2.5, 10)\n",
    "print(p)\n",
    "print(p.distance_from_origin())\n",
    "p.pivot()\n",
    "print(p)"
   ]
  },
  {
   "cell_type": "code",
   "execution_count": 10,
   "id": "a60789f5",
   "metadata": {},
   "outputs": [
    {
     "name": "stdout",
     "output_type": "stream",
     "text": [
      "2, 2 : 4, 4\n",
      "2.8284271247461903\n",
      "1, 5\n",
      "1, 5 : 4, 4\n"
     ]
    }
   ],
   "source": [
    "from math import sqrt\n",
    "\n",
    "class Line:\n",
    "    def __init__(self, point1: Point, point2: Point):\n",
    "        self.point1 = point1\n",
    "        self.point2 = point2\n",
    "        \n",
    "    def __repr__(self):\n",
    "        return f\"{self.point1.x}, {self.point1.y} : {self.point2.x}, {self.point2.y}\"\n",
    "    \n",
    "    def length(self):\n",
    "        return sqrt(\n",
    "            pow(\n",
    "                (self.point1.x - self.point2.x),\n",
    "                2) + \n",
    "            pow(\n",
    "                (self.point1.y - self.point2.y),\n",
    "                2)\n",
    "        )\n",
    "    \n",
    "p1 = Point(2, 2)\n",
    "p2 = Point(4, 4)\n",
    "line = Line(p1, p2)\n",
    "print(line)\n",
    "print(line.length())\n",
    "\n",
    "# Pass by REFERENCE, if you don't want that 'link' use copy.\n",
    "p1.translate(-1, 3)\n",
    "print(p1)\n",
    "print(line)"
   ]
  },
  {
   "cell_type": "markdown",
   "id": "cd5d1779",
   "metadata": {},
   "source": [
    "## Operator Overloading\n",
    "Polymorphism, when certain actions and operands mean different things depending on the object it is acted upon.\n",
    "https://docs.python.org/3/reference/datamodel.html"
   ]
  },
  {
   "cell_type": "markdown",
   "id": "e4b8b2b6",
   "metadata": {},
   "source": [
    "Common operators via the dunder methods\n",
    "\n",
    "**Comparisons**\n",
    "* \\_\\_eq\\_\\_\n",
    "* \\_\\_ne\\_\\_\n",
    "* \\_\\_gt\\_\\_\n",
    "* \\_\\_ge\\_\\_\n",
    "* \\_\\_lt\\_\\_\n",
    "* \\_\\_le\\_\\_\n",
    "\n",
    "**Bool**\n",
    "* \\_\\_bool\\_\\_\n",
    "\n",
    "**Operators**\n",
    "* \\_\\_add\\_\\_\n",
    "* \\_\\_sub\\_\\_\n",
    "* \\_\\_mul\\_\\_\n",
    "* \\_\\_truediv\\_\\_\n",
    "* \\_\\_floordiv\\_\\_\n",
    "* \\_\\_mod\\_\\_\n",
    "* \\_\\_pow\\_\\_ \n",
    "\n",
    "**Bitwise Operators**\n",
    "* \\_\\_lshift\\_\\_\n",
    "* \\_\\_rshift\\_\\_\n",
    "* \\_\\_and\\_\\_\n",
    "* \\_\\_or\\_\\_\n",
    "* \\_\\_xor\\_\\_\n",
    "\n",
    "**Reflected Operators (swapped)**\n",
    "* \\_\\_radd\\_\\_\n",
    "* \\_\\_rsub\\_\\_\n",
    "* \\_\\_rmul\\_\\_\n",
    "* \\_\\_rtruediv\\_\\_\n",
    "* \\_\\_rfloordiv\\_\\_\n",
    "* \\_\\_rmod\\_\\_\n",
    "* \\_\\_rpow\\_\\_ \n",
    "* \\_\\_rlshift\\_\\_\n",
    "* \\_\\_rrshift\\_\\_\n",
    "* \\_\\_rand\\_\\_\n",
    "* \\_\\_ror\\_\\_\n",
    "* \\_\\_rxor\\_\\_\n",
    "\n",
    "**Augmented Calculations**\n",
    "* \\_\\_iadd\\_\\_\n",
    "* \\_\\_isub\\_\\_\n",
    "* \\_\\_imul\\_\\_\n",
    "* \\_\\_itruediv\\_\\_\n",
    "* \\_\\_ifloordiv\\_\\_\n",
    "* \\_\\_imod\\_\\_\n",
    "* \\_\\_ipow\\_\\_ \n",
    "* \\_\\_ilshift\\_\\_\n",
    "* \\_\\_irshift\\_\\_\n",
    "* \\_\\_iand\\_\\_\n",
    "* \\_\\_ior\\_\\_\n",
    "* \\_\\_ixor\\_\\_\n",
    "\n",
    "**Unary Operators**\n",
    "\n",
    "* \\_\\_neg\\_\\_\n",
    "* \\_\\_pos\\_\\_\n",
    "* \\_\\_invert\\_\\_\n",
    "* \\_\\_abs\\_\\_\n",
    "* \\_\\_int\\_\\_\n",
    "* \\_\\_float\\_\\_\n",
    "* \\_\\_round\\_\\_\n",
    "* \\_\\_bytes\\_\\_\n",
    "\n",
    "**Sequences**\n",
    "* \\_\\_len\\_\\_ # must return an integers indicating number of elements in the object\n",
    "* \\_\\_getitem\\_\\_\n",
    "* \\_\\_setitem\\_\\_\n",
    "* \\_\\_delitem\\_\\_\n",
    "* \\_\\_missing\\_\\_\n",
    "* \\_\\_contains\\_\\_\n"
   ]
  },
  {
   "cell_type": "code",
   "execution_count": 12,
   "id": "45dacfe3",
   "metadata": {},
   "outputs": [
    {
     "name": "stdout",
     "output_type": "stream",
     "text": [
      "False\n",
      "True\n",
      "True\n",
      "True\n"
     ]
    }
   ],
   "source": [
    "class Point:\n",
    "    def __init__(self, x, y):\n",
    "        # first param is always self in methods because you refer back to the object.\n",
    "        # this is a convention, it can be anything, but please use self\n",
    "        self.x = x\n",
    "        self.y = y\n",
    "        \n",
    "    def __repr__(self):\n",
    "        # When an object is displayed\n",
    "        # all information to recreate an object\n",
    "        return f\"{self.x}, {self.y}\"\n",
    "    \n",
    "    def __eq__(self, p: Point):\n",
    "        return self.x == p.x and self.y == p.y\n",
    "    \n",
    "    \n",
    "p1 = Point( 3, 4 )\n",
    "p2 = Point( 3, 4 )\n",
    "p3 = p1\n",
    "print(p1 is p2)\n",
    "print(p1 is p3)\n",
    "print(p1 == p2)\n",
    "print(p1 == p3)"
   ]
  },
  {
   "cell_type": "code",
   "execution_count": 16,
   "id": "1a8ed799",
   "metadata": {},
   "outputs": [
    {
     "name": "stdout",
     "output_type": "stream",
     "text": [
      "52\n",
      "Card(rank='A', suit='hearts')\n"
     ]
    }
   ],
   "source": [
    "import collections\n",
    "from random import choice\n",
    "\n",
    "Card = collections.namedtuple('Card', ['rank', 'suit'])\n",
    "\n",
    "class Deck:\n",
    "    ranks = [str(i) for i in range(2, 11)] + list('JQKA')\n",
    "    suits = 'spades diamonds clubs hearts'.split()\n",
    "    \n",
    "    def __init__(self):\n",
    "        self._cards = [Card(rank, suit) for suit in self.suits \n",
    "                                        for rank in self.ranks]\n",
    "    def __len__(self):\n",
    "        return len(self._cards)\n",
    "    \n",
    "    def __getitem__(self, position):\n",
    "        # supports slicing and is iterable\n",
    "        return self._cards[position]\n",
    "    \n",
    "deck = Deck()\n",
    "print(len(deck))\n",
    "print(choice(deck))"
   ]
  },
  {
   "cell_type": "markdown",
   "id": "6b2adc87",
   "metadata": {},
   "source": [
    "# Inheritance\n",
    "All classes inherit from Object  \n",
    "Except Exceptions, they inherit from BaseException  "
   ]
  },
  {
   "cell_type": "code",
   "execution_count": 17,
   "id": "1cd44413",
   "metadata": {},
   "outputs": [
    {
     "name": "stdout",
     "output_type": "stream",
     "text": [
      "['__class__', '__delattr__', '__dict__', '__dir__', '__doc__', '__eq__', '__format__', '__ge__', '__getattribute__', '__getstate__', '__gt__', '__hash__', '__init__', '__init_subclass__', '__le__', '__lt__', '__module__', '__ne__', '__new__', '__reduce__', '__reduce_ex__', '__repr__', '__setattr__', '__sizeof__', '__str__', '__subclasshook__', '__weakref__']\n"
     ]
    }
   ],
   "source": [
    "class Nothing:\n",
    "    pass\n",
    "\n",
    "# Find all the members of the class (e.g. all the parts)\n",
    "print(dir(Nothing))"
   ]
  },
  {
   "cell_type": "markdown",
   "id": "bea0da58",
   "metadata": {},
   "source": [
    "**Relationships**  \n",
    "Ask yourself whether a \\<subclass> \"is a\" \\<superclass>  \n",
    "since an apple is a fruit, Apple can be a subclass of Fruit"
   ]
  },
  {
   "cell_type": "markdown",
   "id": "967c1594",
   "metadata": {},
   "source": [
    "**Extending and Overriding**  \n",
    "Within a subclass, we can use super().\\_\\_init\\_\\_() for extending and overriding  \n",
    "instead of directly copying what already is the class.  \n",
    "If we do not user super(), we overwrite the \\_\\_init\\_\\_ method.  \n",
    "Another option is the class call, such as Class.\\_\\_init\\_\\_().  \n",
    "But with super() we can directly refer to the **superclass** of the class without knowing the name of the superclass.  "
   ]
  },
  {
   "cell_type": "code",
   "execution_count": 18,
   "id": "cd2d3f1b",
   "metadata": {},
   "outputs": [
    {
     "name": "stdout",
     "output_type": "stream",
     "text": [
      "Header Payload\n",
      "Header: Payload\n"
     ]
    }
   ],
   "source": [
    "class Protocol:\n",
    "    def __init__(self, header, payload, footer=None):\n",
    "        self.header = header\n",
    "        self.payload = payload\n",
    "        if footer:\n",
    "            self.footer = footer\n",
    "            \n",
    "class Arp(Protocol):\n",
    "    def __init__(self, header, payload):\n",
    "        super().__init__(header, payload) # refer back to parent class\n",
    "        \n",
    "    def __repr__(self):\n",
    "        return f'{self.header}: {self.payload}'\n",
    "    \n",
    "    def do_arp_things(self):\n",
    "        pass\n",
    "    \n",
    "a = Arp('Header', 'Payload')\n",
    "print(a.header, a.payload)\n",
    "print(a)"
   ]
  },
  {
   "cell_type": "markdown",
   "id": "9ee16992",
   "metadata": {},
   "source": [
    "**Multiple Inheritance**  \n",
    "Inherit from multiple classes.\n",
    "This can be done with super().  \n",
    "  \n",
    "**BIG FUCKING DISCLAIMER**\n",
    "The order of inheritance matters a lot. They can overwrite each other.\n",
    "Something, something MRO (Multiple Resolution Order)\n",
    "  \n",
    "super(self, C, A, B).\\_\\_init\\_\\_()  \n",
    "Personally I have never used it, it is quite the foot gun.  \n",
    "Most Object Oriented Languages **do not** support multiple inheritance.  \n",
    "\n",
    "Fore more information check: https://realpython.com/python-super/"
   ]
  },
  {
   "cell_type": "code",
   "execution_count": null,
   "id": "734d89f4",
   "metadata": {},
   "outputs": [],
   "source": [
    "# Interface / Abstract class\n",
    "# A template which should be inherited from\n",
    "# like a nice recipe\n",
    "class Vehicle:\n",
    "    def __init__(self):\n",
    "        self.startpoint = []\n",
    "        self.endpoints = []\n",
    "        self.verb = \"\"\n",
    "        self.name = \"\"\n",
    "        \n",
    "    def __str__(self):\n",
    "        return self.name\n",
    "    \n",
    "    def isStartpoint(self, p):\n",
    "        return NotImplemented\n",
    "\n",
    "    def isEndpoint(self, p):\n",
    "        return NotImplemented\n",
    "    \n",
    "    def travel_speed(self, p1 , p2):\n",
    "        return NotImplemented\n",
    "    \n",
    "    def travelVerb(self):\n",
    "        return NotImplemented"
   ]
  },
  {
   "cell_type": "markdown",
   "id": "36973d87",
   "metadata": {},
   "source": [
    "# Iterators & Generators  \n",
    "On how **for** *variable* *in* **iterable** works.  \n",
    "An iterator is an object either a collection or mapping that returns a new item every time you call it with the next() function.  \n",
    "next() will throw an StopIteration example if there are no more items left.  \n",
    "You can give next() a second argument, which it will return instead of throwing the error.  \n",
    "<br>\n",
    "We can make a iterator out of an iterable by using the iter() function  \n",
    "Almost never have I used this.  \n",
    "Rather implement  \n",
    "\\_\\_iter\\_\\_()  \n",
    "\\_\\_next\\_\\_()  "
   ]
  },
  {
   "cell_type": "code",
   "execution_count": 19,
   "id": "eea39a7b",
   "metadata": {},
   "outputs": [
    {
     "name": "stdout",
     "output_type": "stream",
     "text": [
      "1 1 2 3 5 8 13 21 34 55 "
     ]
    }
   ],
   "source": [
    "class Fibonacci:\n",
    "    \"\"\"\n",
    "    A beautifull sequence of rabbits reproducing sprouting from the mind of an Italian\n",
    "    __iter__ needed to return the object\n",
    "    __next__ to provide access to all items, one by one\n",
    "    \n",
    "    This implementation will leave you empty handed afterwards\n",
    "    \"\"\"\n",
    "    def __init__(self):\n",
    "        self.seq = [1, 1, 2, 3, 5, 8, 13, 21, 34, 55]\n",
    "        \n",
    "    def __iter__(self):\n",
    "        # return the object itself\n",
    "        return self\n",
    "    \n",
    "    def __next__(self):\n",
    "        # return one item from the sequence\n",
    "        if len(self.seq) > 0:\n",
    "            return self.seq.pop(0)\n",
    "        raise StopIteration()\n",
    "        \n",
    "fibo = Fibonacci()\n",
    "for n in fibo:\n",
    "    print(n, end=\" \")"
   ]
  },
  {
   "cell_type": "code",
   "execution_count": 20,
   "id": "e3c4982d",
   "metadata": {},
   "outputs": [
    {
     "name": "stdout",
     "output_type": "stream",
     "text": [
      "1 1 2 3 5 8 13 21 34 55 "
     ]
    }
   ],
   "source": [
    "class Fibonacci:\n",
    "    \"\"\"\n",
    "    A beautifull sequence of rabbits reproducing sprouting from the mind of an Italian\n",
    "    __iter__ needed to return the object\n",
    "    __next__ to provide access to all items, one by one\n",
    "    \"\"\"\n",
    "    def __init__(self):\n",
    "        self.seq = [1, 1, 2, 3, 5, 8, 13, 21, 34, 55]\n",
    "        self.index = -1\n",
    "        \n",
    "    def __iter__(self):\n",
    "        # return the object itself\n",
    "        return self\n",
    "    \n",
    "    def __next__(self):\n",
    "        # return one item from the sequence\n",
    "        if self.index < len(self.seq) - 1:\n",
    "            self.index += 1\n",
    "            return self.seq[self.index]\n",
    "        raise StopIteration()\n",
    "    \n",
    "    def reset(self):\n",
    "        self.index = -1\n",
    "        \n",
    "fibo = Fibonacci()\n",
    "for n in fibo:\n",
    "    print(n, end=\" \")"
   ]
  },
  {
   "cell_type": "code",
   "execution_count": 21,
   "id": "4fc2b04b",
   "metadata": {},
   "outputs": [
    {
     "name": "stdout",
     "output_type": "stream",
     "text": [
      "1 \n",
      "1 \n",
      "2 \n",
      "3 \n",
      "5 \n",
      "8 \n",
      "13 \n",
      "21 \n",
      "34 \n",
      "55 \n",
      "89 \n",
      "144 \n",
      "233 \n",
      "377 \n",
      "610 \n",
      "987 \n",
      "1597 \n",
      "2584 \n",
      "4181 \n",
      "6765 \n"
     ]
    }
   ],
   "source": [
    "class Fibonacci:\n",
    "    def reset(self):\n",
    "        self.nr1 = 0\n",
    "        self.nr2 = 1\n",
    "        \n",
    "    def __init__(self, iterations = 20):\n",
    "        self.iterations = iterations\n",
    "        self.reset()\n",
    "\n",
    "    def __iter__(self):\n",
    "        return self\n",
    "\n",
    "    def __next__(self):\n",
    "        if self.iterations < 1:\n",
    "            raise StopIteration()\n",
    "        nr3 = self.nr1 + self.nr2\n",
    "        self.nr1 = self.nr2\n",
    "        self.nr2 = nr3\n",
    "        self.iterations -= 1\n",
    "        return self.nr1\n",
    "        \n",
    "fibo = Fibonacci()\n",
    "for n in fibo:\n",
    "    print(n, end =\" \")\n",
    "    print()\n",
    "fibo.reset ()\n",
    "for n in fibo :\n",
    "    print(n, end =\" \")"
   ]
  },
  {
   "cell_type": "markdown",
   "id": "ab3860fc",
   "metadata": {},
   "source": [
    "**Delegated Iterations**  \n",
    "With \\_\\_iter\\_\\_ we can also relay to another object that it creates and returns when \\_\\_iter\\_\\_() is called"
   ]
  },
  {
   "cell_type": "code",
   "execution_count": 22,
   "id": "027eb7dd",
   "metadata": {},
   "outputs": [
    {
     "name": "stdout",
     "output_type": "stream",
     "text": [
      "1 \n",
      "1 \n",
      "2 \n",
      "3 \n",
      "5 \n",
      "8 \n",
      "13 \n",
      "21 \n",
      "34 \n",
      "55 \n"
     ]
    }
   ],
   "source": [
    "class FiboIterable :\n",
    "    def __init__(self, seq):\n",
    "        self.seq = seq\n",
    "    def __next__(self):\n",
    "        if len(self.seq) > 0:\n",
    "            return self.seq.pop (0)\n",
    "        raise StopIteration ()\n",
    "\n",
    "class Fibo:\n",
    "    def __init__(self, iterations = 10):\n",
    "        self.iterations = iterations\n",
    "\n",
    "    def __iter__ ( self ):\n",
    "        nr1 = 0\n",
    "        nr2 = 1\n",
    "        seq = []\n",
    "        while self.iterations > 0 :\n",
    "            nr3 = nr1 + nr2\n",
    "            nr1 = nr2\n",
    "            nr2 = nr3\n",
    "            seq.append(nr1)\n",
    "            self.iterations -= 1\n",
    "        return FiboIterable ( seq )\n",
    "    \n",
    "fseq = Fibo()\n",
    "for n in fseq :\n",
    "    print(n , end =\" \")\n",
    "    print()\n",
    "\n",
    "for n in fseq:\n",
    "    print(n, end =\" \")"
   ]
  },
  {
   "cell_type": "markdown",
   "id": "fd0d8cd8",
   "metadata": {},
   "source": [
    "**Advantages of delegated iteration**  \n",
    "- You can run several instances in parallel without the need to create more than one (because they are automatically made when needed)\n",
    "- No need for a reset() function or some alternative\n",
    "- Automatically cleaned up from memory afterwards with the GC"
   ]
  },
  {
   "cell_type": "code",
   "execution_count": 23,
   "id": "2f539a8c",
   "metadata": {},
   "outputs": [
    {
     "name": "stdout",
     "output_type": "stream",
     "text": [
      "zip: (1, 3, 4)\n",
      "zip: (2, 3, 5)\n",
      "zip: (3, 3, 6)\n",
      "reversed: 4\n",
      "reversed: 3\n",
      "reversed: 2\n",
      "reversed: 1\n",
      "sorted: 1\n",
      "sorted: 2\n",
      "sorted: 2\n",
      "sorted: 2\n",
      "sorted: 4\n",
      "sorted: 4\n",
      "sorted: 5\n",
      "sorted: 7\n",
      "sorted: 8\n",
      "sorted: 8\n",
      "sorted: 9\n"
     ]
    }
   ],
   "source": [
    "# Creates tuples from multiple iterables\n",
    "# as long as the shortest length of one of the iterables inside\n",
    "z = zip([1,2,3], [3,3,3], [4,5,6])\n",
    "for item in z:\n",
    "    print('zip:', item)\n",
    "    \n",
    "for item in reversed([1, 2, 3, 4]):\n",
    "    print('reversed:', item)\n",
    "    \n",
    "for item in sorted([2, 5, 2, 4, 2, 7, 8, 9, 8 ,4, 1]):\n",
    "    print('sorted:', item)"
   ]
  },
  {
   "cell_type": "markdown",
   "id": "01459933",
   "metadata": {},
   "source": [
    "**Generators**  \n",
    "Generators emulate iterators.  \n",
    "When next() is called, they execute the function until **yield** is called  \n",
    "Then the value associated with yield is returned  \n",
    "StopIteration is raised when the function ends."
   ]
  },
  {
   "cell_type": "code",
   "execution_count": 24,
   "id": "55d905d7",
   "metadata": {},
   "outputs": [
    {
     "name": "stdout",
     "output_type": "stream",
     "text": [
      "1 \n",
      "1 \n",
      "2 \n",
      "3 \n",
      "5 \n",
      "8 \n",
      "13 \n",
      "21 \n",
      "34 \n",
      "55 \n"
     ]
    }
   ],
   "source": [
    "def fibo(rounds):\n",
    "    nr1 = 0\n",
    "    nr2 = 1\n",
    "    while rounds > 0:\n",
    "        nr3 = nr1 + nr2\n",
    "        nr1 = nr2\n",
    "        nr2 = nr3\n",
    "        rounds -= 1\n",
    "        yield nr1\n",
    "        \n",
    "fseq = fibo(10)\n",
    "for n in fseq:\n",
    "    print(n, end =\" \")\n",
    "    print()\n",
    "for n in fseq:\n",
    "    print(n , end =\" \")"
   ]
  },
  {
   "cell_type": "code",
   "execution_count": 25,
   "id": "9114c055",
   "metadata": {},
   "outputs": [
    {
     "name": "stdout",
     "output_type": "stream",
     "text": [
      "0 1 4 9 16 25 36 49 64 81 100 "
     ]
    }
   ],
   "source": [
    "# Generator expression\n",
    "seq = (x * x for x in range(11))\n",
    "for x in seq:\n",
    "    print(x, end =\" \")"
   ]
  },
  {
   "cell_type": "markdown",
   "id": "e3d16895",
   "metadata": {},
   "source": [
    "# Huiswerk\n",
    "Zoek de volgende functions uit via de DOCS  \n",
    "Deze zitten in de itertools module uit de standaard library  \n",
    "itertools.chain()  \n",
    "itertools.zip_longest()  \n",
    "itertools.product()  \n",
    "itertools.permutations()  \n",
    "itertools.combinations()  \n",
    "itertools.combinations_with_replacement()  "
   ]
  }
 ],
 "metadata": {
  "kernelspec": {
   "display_name": "Python 3 (ipykernel)",
   "language": "python",
   "name": "python3"
  },
  "language_info": {
   "codemirror_mode": {
    "name": "ipython",
    "version": 3
   },
   "file_extension": ".py",
   "mimetype": "text/x-python",
   "name": "python",
   "nbconvert_exporter": "python",
   "pygments_lexer": "ipython3",
   "version": "3.12.9"
  }
 },
 "nbformat": 4,
 "nbformat_minor": 5
}
